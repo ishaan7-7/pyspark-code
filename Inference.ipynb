{
 "cells": [
  {
   "cell_type": "code",
   "execution_count": 1,
   "id": "c1fff53d",
   "metadata": {},
   "outputs": [
    {
     "name": "stdout",
     "output_type": "stream",
     "text": [
      "PySpark: 3.5.1\n"
     ]
    }
   ],
   "source": [
    "import pyspark\n",
    "print(\"PySpark:\", pyspark.__version__)"
   ]
  },
  {
   "cell_type": "code",
   "execution_count": 2,
   "id": "9504736d",
   "metadata": {},
   "outputs": [],
   "source": [
    "import os, json, time\n",
    "from pathlib import Path\n",
    "from collections import deque\n",
    "from typing import List"
   ]
  },
  {
   "cell_type": "code",
   "execution_count": 3,
   "id": "081ebed6",
   "metadata": {},
   "outputs": [],
   "source": [
    "import numpy as np\n",
    "import pandas as pd"
   ]
  },
  {
   "cell_type": "code",
   "execution_count": 4,
   "id": "fb3f1d26",
   "metadata": {},
   "outputs": [],
   "source": [
    "from pyspark.sql import SparkSession, functions as F"
   ]
  },
  {
   "cell_type": "code",
   "execution_count": 5,
   "id": "d5823355",
   "metadata": {},
   "outputs": [],
   "source": [
    "import joblib\n",
    "import torch\n",
    "import torch.nn as nn"
   ]
  },
  {
   "cell_type": "code",
   "execution_count": 6,
   "id": "b96506c0",
   "metadata": {},
   "outputs": [],
   "source": [
    "import matplotlib.pyplot as plt"
   ]
  },
  {
   "cell_type": "code",
   "execution_count": 7,
   "id": "8201fc70",
   "metadata": {},
   "outputs": [
    {
     "name": "stdout",
     "output_type": "stream",
     "text": [
      "No session found\n"
     ]
    }
   ],
   "source": [
    "from pyspark.sql import SparkSession\n",
    "\n",
    "active = SparkSession.getActiveSession()\n",
    "if active is not None:\n",
    "    try:\n",
    "        active.stop()\n",
    "        print(\"Stopped previous SparkSession.\")\n",
    "    except Exception as e:\n",
    "        print(\"Spark stop warning:\", e)\n",
    "else:\n",
    "    print(\"No session found\")\n",
    "    \n",
    "import shutil, os\n",
    "CKPT_DIR = r\"./ckpt_landing_stream\"\n",
    "if os.path.exists(CKPT_DIR):\n",
    "    shutil.rmtree(CKPT_DIR)\n",
    "    print(\"Checkpoint cleared.\")\n"
   ]
  },
  {
   "cell_type": "code",
   "execution_count": 8,
   "id": "82f059c0",
   "metadata": {},
   "outputs": [],
   "source": [
    "import os, subprocess\n",
    "os.environ[\"JAVA_HOME\"] = r\"C:\\Program Files\\Eclipse Adoptium\\jdk-11.0.28.6-hotspot\"  # Windows example\n",
    "os.environ[\"PATH\"] = os.environ[\"JAVA_HOME\"] + r\"\\bin;\" + os.environ[\"PATH\"]"
   ]
  },
  {
   "cell_type": "code",
   "execution_count": 9,
   "id": "2658d0d3",
   "metadata": {},
   "outputs": [
    {
     "name": "stdout",
     "output_type": "stream",
     "text": [
      "Python: 3.9.7\n",
      "PySpark: 3.5.1\n",
      "JAVA_HOME: C:\\Program Files\\Eclipse Adoptium\\jdk-11.0.28.6-hotspot\n",
      "java -version:\n",
      " openjdk version \"11.0.28\" 2025-07-15\r\n",
      "OpenJDK Runtime Environment Temurin-11.0.28+6 (build 11.0.28+6)\r\n",
      "OpenJDK 64-Bit Server VM Temurin-11.0.28+6 (build 11.0.28+6, mixed mode)\r\n",
      "\n"
     ]
    }
   ],
   "source": [
    "import os, subprocess, sys, pyspark\n",
    "print(\"Python:\", sys.version.split()[0])\n",
    "print(\"PySpark:\", pyspark.__version__)\n",
    "print(\"JAVA_HOME:\", os.environ.get(\"JAVA_HOME\"))\n",
    "try:\n",
    "    out = subprocess.check_output([\"java\", \"-version\"], stderr=subprocess.STDOUT).decode()\n",
    "    print(\"java -version:\\n\", out)\n",
    "except Exception as e:\n",
    "    print(\"java -version not runnable:\", e)\n"
   ]
  },
  {
   "cell_type": "code",
   "execution_count": 10,
   "id": "8541b372",
   "metadata": {},
   "outputs": [
    {
     "name": "stdout",
     "output_type": "stream",
     "text": [
      "JAVA_HOME: C:\\Program Files\\Eclipse Adoptium\\jdk-11.0.28.6-hotspot\n",
      "openjdk version \"11.0.28\" 2025-07-15\r\n",
      "OpenJDK Runtime Environment Temurin-11.0.28+6 (build 11.0.28+6)\r\n",
      "OpenJDK 64-Bit Server VM Temurin-11.0.28+6 (build 11.0.28+6, mixed mode)\r\n",
      "\n"
     ]
    }
   ],
   "source": [
    "print(\"JAVA_HOME:\", os.environ.get(\"JAVA_HOME\"))\n",
    "print(subprocess.check_output([\"java\",\"-version\"], stderr=subprocess.STDOUT).decode())"
   ]
  },
  {
   "cell_type": "code",
   "execution_count": 11,
   "id": "e65d3623",
   "metadata": {},
   "outputs": [
    {
     "name": "stdout",
     "output_type": "stream",
     "text": [
      "Using Python: C:\\ProgramData\\Anaconda3\\python.exe\n"
     ]
    }
   ],
   "source": [
    "import os, sys\n",
    "os.environ[\"PYSPARK_PYTHON\"] = sys.executable          # executor side\n",
    "os.environ[\"PYSPARK_DRIVER_PYTHON\"] = sys.executable   # driver side\n",
    "print(\"Using Python:\", sys.executable)"
   ]
  },
  {
   "cell_type": "code",
   "execution_count": 12,
   "id": "eac48d08",
   "metadata": {},
   "outputs": [],
   "source": [
    "#%pip install \"pyspark==3.5.1\""
   ]
  },
  {
   "cell_type": "code",
   "execution_count": 13,
   "id": "72797514",
   "metadata": {},
   "outputs": [
    {
     "name": "stdout",
     "output_type": "stream",
     "text": [
      "winutils OK\n"
     ]
    }
   ],
   "source": [
    "import os, subprocess, sys\n",
    "\n",
    "# Make sure these files exist:\n",
    "# C:\\hadoop\\bin\\winutils.exe   and   C:\\hadoop\\bin\\hadoop.dll\n",
    "os.environ[\"HADOOP_HOME\"] = r\"C:\\hadoop\"              # env var can keep backslashes\n",
    "os.environ[\"PATH\"] = r\"C:\\hadoop\\bin;\" + os.environ[\"PATH\"]\n",
    "\n",
    "# Sanity: winutils should run\n",
    "try:\n",
    "    out = subprocess.check_output([r\"C:\\hadoop\\bin\\winutils.exe\", \"ls\", r\"C:\\hadoop\\bin\"], stderr=subprocess.STDOUT).decode()\n",
    "    print(\"winutils OK\")\n",
    "except Exception as e:\n",
    "    print(\"winutils test failed:\", e)\n",
    "\n"
   ]
  },
  {
   "cell_type": "code",
   "execution_count": 14,
   "id": "7ceb2f60",
   "metadata": {},
   "outputs": [
    {
     "name": "stdout",
     "output_type": "stream",
     "text": [
      "Spark started in 4.77s\n"
     ]
    }
   ],
   "source": [
    "from pyspark.sql import SparkSession\n",
    "import time\n",
    "\n",
    "t0 = time.time()\n",
    "spark = (\n",
    "    SparkSession.builder\n",
    "    .master(\"local[*]\")\n",
    "    .appName(\"StreamingReader\")\n",
    "    # point Spark explicitly to this Python\n",
    "    .config(\"spark.pyspark.python\", sys.executable)\n",
    "    .config(\"spark.pyspark.driver.python\", sys.executable)\n",
    "    # (keep your other configs: UI off, warehouse dir, hadoop home dir, etc.)\n",
    "    .config(\"spark.ui.enabled\", \"false\")\n",
    "    .config(\"spark.ui.showConsoleProgress\", \"false\")\n",
    "    .config(\"spark.sql.catalogImplementation\", \"in-memory\")\n",
    "    .config(\"spark.sql.shuffle.partitions\", \"8\")\n",
    "    .config(\"spark.default.parallelism\", \"8\")\n",
    "    .config(\"spark.driver.host\", \"127.0.0.1\")\n",
    "    .config(\"spark.driver.bindAddress\", \"127.0.0.1\")\n",
    "    .config(\"spark.local.dir\", r\"C:\\spark-temp\")\n",
    "    .config(\"spark.sql.warehouse.dir\", r\"C:\\spark-warehouse\")\n",
    "    # keep your Hadoop/winutils settings if you added them:\n",
    "    .config(\"spark.driver.extraJavaOptions\", \"-Dhadoop.home.dir=C:/hadoop -Djava.net.preferIPv4Stack=true -Dsun.net.inetaddr.ttl=60\")\n",
    "    .config(\"spark.executor.extraJavaOptions\", \"-Dhadoop.home.dir=C:/hadoop\")\n",
    "    .getOrCreate()\n",
    ")\n",
    "print(f\"Spark started in {time.time() - t0:.2f}s\")\n"
   ]
  },
  {
   "cell_type": "code",
   "execution_count": 15,
   "id": "d3d001ea",
   "metadata": {},
   "outputs": [
    {
     "name": "stdout",
     "output_type": "stream",
     "text": [
      "Reading from: C:/Users/Ishaan Tiwari/Desktop/Kafka/landing\n",
      "Checkpoint: C:/Users/Ishaan Tiwari/Desktop/Kafka/ckpt_landing_stream\n",
      "Inference device: cpu\n"
     ]
    }
   ],
   "source": [
    "# %%\n",
    "FEATURES: List[str] = [f\"signal_{i}\" for i in range(1, 61)]\n",
    "TIMESTAMP_COL = \"Timestamp\"\n",
    "\n",
    "ART_DIR = Path(\"artifacts\")\n",
    "SCALER_PROD_PATH = ART_DIR / \"scaler_prod.joblib\"\n",
    "DENSE_PT_PATH    = ART_DIR / \"dense_ae.pt\"\n",
    "LSTM_PT_PATH     = ART_DIR / \"lstm_ae.pt\"\n",
    "BEST_PARAMS_PATH = ART_DIR / \"best_params.json\"\n",
    "FEATURES_JSON    = ART_DIR / \"features.json\"\n",
    "\n",
    "\n",
    "LANDING_DIR = Path(r\"C:\\Users\\Ishaan Tiwari\\Desktop\\Kafka\\landing\")\n",
    "CKPT_DIR    = Path(r\"C:\\Users\\Ishaan Tiwari\\Desktop\\Kafka\\ckpt_landing_stream\")\n",
    "\n",
    "# Use POSIX-style strings for Spark on Windows\n",
    "landing_path_for_spark = LANDING_DIR.as_posix()\n",
    "ckpt_path_for_spark    = CKPT_DIR.as_posix()\n",
    "\n",
    "print(\"Reading from:\", landing_path_for_spark)\n",
    "print(\"Checkpoint:\", ckpt_path_for_spark)\n",
    "SILVER_DIR  = Path(r\"C:\\Users\\Ishaan Tiwari\\Desktop\\Kafka\\silver\")\n",
    "SCORES_DIR  = SILVER_DIR / \"scores\"\n",
    "POINT_DIR   = SILVER_DIR / \"anomalies_point\"\n",
    "PATTERN_DIR = SILVER_DIR / \"anomalies_pattern\"\n",
    "CONTR_P_DIR = SILVER_DIR / \"contribs_point\"\n",
    "\n",
    "# Posix strings for Spark I/O\n",
    "scores_path  = SCORES_DIR.as_posix()\n",
    "point_path   = POINT_DIR.as_posix()\n",
    "pattern_path = PATTERN_DIR.as_posix()\n",
    "contrib_path = CONTR_P_DIR.as_posix()\n",
    "ckpt_path    = CKPT_DIR.as_posix()\n",
    "\n",
    "for d in [SILVER_DIR, SCORES_DIR, POINT_DIR, PATTERN_DIR, CONTR_P_DIR]:\n",
    "    d.mkdir(parents=True, exist_ok=True)\n",
    "    \n",
    "\n",
    "# Detection params\n",
    "PCTL = 99.5\n",
    "ROLL_W = 3000\n",
    "Z_THR = 6.0\n",
    "MIN_RUN = 5\n",
    "TOPK = 5\n",
    "\n",
    "DEVICE = torch.device(\"cuda\" if torch.cuda.is_available() else \"cpu\")\n",
    "print(\"Inference device:\", DEVICE)\n"
   ]
  },
  {
   "cell_type": "code",
   "execution_count": 16,
   "id": "a898eabf",
   "metadata": {},
   "outputs": [
    {
     "name": "stderr",
     "output_type": "stream",
     "text": [
      "C:\\ProgramData\\Anaconda3\\lib\\site-packages\\scipy\\__init__.py:146: UserWarning: A NumPy version >=1.16.5 and <1.23.0 is required for this version of SciPy (detected version 1.23.5\n",
      "  warnings.warn(f\"A NumPy version >={np_minversion} and <{np_maxversion}\"\n"
     ]
    },
    {
     "data": {
      "text/plain": [
       "LSTMAE(\n",
       "  (encoder): LSTM(60, 64, batch_first=True)\n",
       "  (to_latent): Linear(in_features=64, out_features=16, bias=True)\n",
       "  (from_latent): Linear(in_features=16, out_features=64, bias=True)\n",
       "  (decoder): LSTM(60, 64, batch_first=True)\n",
       "  (out): Linear(in_features=64, out_features=60, bias=True)\n",
       ")"
      ]
     },
     "execution_count": 16,
     "metadata": {},
     "output_type": "execute_result"
    }
   ],
   "source": [
    "# %%\n",
    "# Scaler + params\n",
    "scaler = joblib.load(str(SCALER_PROD_PATH))\n",
    "\n",
    "if BEST_PARAMS_PATH.exists():\n",
    "    with open(BEST_PARAMS_PATH) as f:\n",
    "        bp = json.load(f)\n",
    "else:\n",
    "    bp = {\"seq_len\": 30, \"stride\": 1}\n",
    "SEQ_LEN = int(bp.get(\"seq_len\", 30))\n",
    "STRIDE  = int(bp.get(\"stride\", 1))\n",
    "\n",
    "# Feature order (optional)\n",
    "if FEATURES_JSON.exists():\n",
    "    try:\n",
    "        fj = json.load(open(FEATURES_JSON))\n",
    "        FEATURES = fj.get(\"features\", FEATURES)\n",
    "    except Exception:\n",
    "        pass\n",
    "\n",
    "# Model definitions must match training\n",
    "class DenseAE(nn.Module):\n",
    "    def __init__(self, in_dim=60):\n",
    "        super().__init__()\n",
    "        self.encoder = nn.Sequential(\n",
    "            nn.Linear(in_dim, 40), nn.ReLU(),\n",
    "            nn.Linear(40, 20), nn.ReLU(),\n",
    "            nn.Linear(20, 10), nn.ReLU(),\n",
    "        )\n",
    "        self.decoder = nn.Sequential(\n",
    "            nn.Linear(10, 20), nn.ReLU(),\n",
    "            nn.Linear(20, 40), nn.ReLU(),\n",
    "            nn.Linear(40, in_dim),\n",
    "        )\n",
    "    def forward(self, x):\n",
    "        z = self.encoder(x)\n",
    "        out = self.decoder(z)\n",
    "        return out\n",
    "\n",
    "class LSTMAE(nn.Module):\n",
    "    def __init__(self, input_dim=60, hidden_dim=64, latent_dim=16, num_layers=1):\n",
    "        super().__init__()\n",
    "        self.encoder = nn.LSTM(input_dim, hidden_dim, num_layers=num_layers, batch_first=True)\n",
    "        self.to_latent = nn.Linear(hidden_dim, latent_dim)\n",
    "        self.from_latent = nn.Linear(latent_dim, hidden_dim)\n",
    "        self.decoder = nn.LSTM(input_dim, hidden_dim, num_layers=num_layers, batch_first=True)\n",
    "        self.out = nn.Linear(hidden_dim, input_dim)\n",
    "    def forward(self, x):  # x: (B, T, F)\n",
    "        enc_out, _ = self.encoder(x)\n",
    "        h_last = enc_out[:, -1, :]\n",
    "        z = self.to_latent(h_last)\n",
    "        h0 = self.from_latent(z).unsqueeze(0)\n",
    "        c0 = torch.zeros_like(h0)\n",
    "        dec_out, _ = self.decoder(x, (h0, c0))\n",
    "        y = self.out(dec_out)\n",
    "        return y\n",
    "\n",
    "# Instantiate + load weights\n",
    "pdense = bp.get(\"dense\", {})\n",
    "plstm  = bp.get(\"lstm\",  {})\n",
    "\n",
    "_dense = DenseAE(in_dim=len(FEATURES)).to(DEVICE)\n",
    "_lstm  = LSTMAE(input_dim=len(FEATURES),\n",
    "                hidden_dim=int(plstm.get(\"hidden\", 64)),\n",
    "                latent_dim=int(plstm.get(\"latent\", 16)),\n",
    "                num_layers=int(plstm.get(\"layers\", 1))).to(DEVICE)\n",
    "\n",
    "_dense.load_state_dict(torch.load(DENSE_PT_PATH, map_location=DEVICE))\n",
    "_lstm.load_state_dict(torch.load(LSTM_PT_PATH,  map_location=DEVICE))\n",
    "\n",
    "_dense.eval(); _lstm.eval()\n"
   ]
  },
  {
   "cell_type": "code",
   "execution_count": 17,
   "id": "3960f0eb",
   "metadata": {},
   "outputs": [],
   "source": [
    "# %%\n",
    "from collections import deque\n",
    "\n",
    "lstm_buf = deque(maxlen=max(1, SEQ_LEN - 1))  # rolling buffer of scaled rows\n",
    "roll_scores = deque(maxlen=ROLL_W)            # rolling LSTM scores for robust z\n",
    "prev_run_len = 0\n",
    "prev_run_start_ts = None\n",
    "\n",
    "def windowize(Xs: np.ndarray, seq_len: int, stride: int) -> np.ndarray:\n",
    "    n = len(Xs); F = Xs.shape[1]\n",
    "    if n < seq_len:\n",
    "        return np.empty((0, seq_len, F), dtype=Xs.dtype)\n",
    "    n_win = (n - seq_len) // stride + 1\n",
    "    idxs = (np.arange(seq_len)[None, :] + stride*np.arange(n_win)[:, None])\n",
    "    return Xs[idxs]\n",
    "\n",
    "def robust_z(scores: np.ndarray, med: float, mad: float) -> np.ndarray:\n",
    "    if mad <= 1e-12: mad = 1e-12\n",
    "    return np.abs(scores - med) / (1.4826 * mad)\n"
   ]
  },
  {
   "cell_type": "code",
   "execution_count": 18,
   "id": "ddf74d36",
   "metadata": {},
   "outputs": [],
   "source": [
    "# B4.5) Explicit schema for the landing stream\n",
    "from pyspark.sql import types as T\n",
    "\n",
    "schema = T.StructType(\n",
    "    [T.StructField(\"Timestamp\", T.StringType(), nullable=False)] +\n",
    "    [T.StructField(f\"signal_{i}\", T.FloatType(), nullable=True) for i in range(1, 61)]\n",
    ")\n"
   ]
  },
  {
   "cell_type": "code",
   "execution_count": 19,
   "id": "4b70d16f",
   "metadata": {},
   "outputs": [],
   "source": [
    "def score_and_detect(batch_df, batch_id: int):\n",
    "    import traceback, time\n",
    "    import numpy as np\n",
    "    import pandas as pd\n",
    "    from pyspark.sql import functions as F\n",
    "    import torch\n",
    "\n",
    "    print(f\"[foreachBatch] batch_id={batch_id} received\")\n",
    "\n",
    "    try:\n",
    "        # 0) Fast exit\n",
    "        if batch_df.isEmpty():\n",
    "            print(f\"[foreachBatch] batch_id={batch_id} is empty\")\n",
    "            return\n",
    "\n",
    "        # 1) Throttle large batches on laptops\n",
    "        MAX_ROWS = 2000\n",
    "        nrows = batch_df.count()\n",
    "        print(f\"[foreachBatch] batch_id={batch_id} rows={nrows}\")\n",
    "        if nrows > MAX_ROWS:\n",
    "            batch_df = batch_df.limit(MAX_ROWS)\n",
    "            print(f\"[foreachBatch] batch_id={batch_id} limited to {MAX_ROWS} rows\")\n",
    "\n",
    "        # 2) Quick schema + sample preview (helps debug)\n",
    "        batch_df.printSchema()\n",
    "        sample_pdf = batch_df.limit(3).toPandas()\n",
    "        print(f\"[foreachBatch] batch_id={batch_id} sample:\\n\", sample_pdf.head(3))\n",
    "\n",
    "        # 3) Order by Timestamp and pull to pandas\n",
    "        ordered = batch_df.orderBy(F.col(TIMESTAMP_COL))\n",
    "        pdf = ordered.select([TIMESTAMP_COL] + FEATURES).toPandas()\n",
    "\n",
    "        # 4) Scale\n",
    "        X = pdf[FEATURES].astype(\"float32\").values\n",
    "        Xs = scaler.transform(X).astype(\"float32\", copy=False)\n",
    "\n",
    "        # 5) Dense AE (PyTorch)\n",
    "        with torch.no_grad():\n",
    "            x_t = torch.from_numpy(Xs).to(_dense.device if hasattr(_dense, \"device\") else \"cpu\")\n",
    "            recon_d_t = _dense(x_t)\n",
    "            recon_d = recon_d_t.detach().cpu().numpy().astype(\"float32\")\n",
    "        dense_mse = ((Xs - recon_d) ** 2).mean(axis=1).astype(\"float32\")\n",
    "\n",
    "        # 6) LSTM AE with rolling buffer\n",
    "        global lstm_buf, roll_scores, prev_run_len, prev_run_start_ts\n",
    "\n",
    "        if len(lstm_buf) > 0:\n",
    "            buf_arr = np.stack(lstm_buf, axis=0).astype(\"float32\")\n",
    "            Xs_cat = np.concatenate([buf_arr, Xs], axis=0)\n",
    "        else:\n",
    "            Xs_cat = Xs\n",
    "\n",
    "        # windowize\n",
    "        n = len(Xs_cat); Fdim = Xs_cat.shape[1]\n",
    "        if n >= SEQ_LEN:\n",
    "            n_win = (n - SEQ_LEN) // STRIDE + 1\n",
    "            idxs = (np.arange(SEQ_LEN)[None, :] + STRIDE*np.arange(n_win)[:, None])\n",
    "            X_seq = Xs_cat[idxs]\n",
    "        else:\n",
    "            X_seq = np.empty((0, SEQ_LEN, Fdim), dtype=\"float32\")\n",
    "\n",
    "        if len(X_seq) > 0:\n",
    "            with torch.no_grad():\n",
    "                xseq_t = torch.from_numpy(X_seq).to(_lstm.device if hasattr(_lstm, \"device\") else \"cpu\")\n",
    "                recon_l_t = _lstm(xseq_t)\n",
    "                recon_l = recon_l_t.detach().cpu().numpy().astype(\"float32\")\n",
    "            win_mse = ((X_seq - recon_l) ** 2).mean(axis=(1, 2)).astype(\"float32\")\n",
    "\n",
    "            scores_l_cat = np.full(len(Xs_cat), np.nan, dtype=\"float32\")\n",
    "            for i, s in enumerate(win_mse):\n",
    "                last_idx = i * STRIDE + SEQ_LEN - 1\n",
    "                if last_idx < len(scores_l_cat):\n",
    "                    scores_l_cat[last_idx] = s\n",
    "            lstm_mse = scores_l_cat[-len(Xs):]\n",
    "        else:\n",
    "            lstm_mse = np.full(len(Xs), np.nan, dtype=\"float32\")\n",
    "\n",
    "        # Update buffer with last SEQ_LEN-1 rows for next micro-batch\n",
    "        tail = Xs_cat[-(SEQ_LEN - 1):] if SEQ_LEN > 1 else np.empty((0, Xs.shape[1]), dtype=\"float32\")\n",
    "        lstm_buf.clear(); [lstm_buf.append(row) for row in tail]\n",
    "\n",
    "        # 7) Point anomalies (percentile + robust-z)\n",
    "        def robust_z(scores, med, mad):\n",
    "            if mad <= 1e-12: mad = 1e-12\n",
    "            return np.abs(scores - med) / (1.4826 * mad)\n",
    "\n",
    "        valid = np.isfinite(lstm_mse)\n",
    "        use_scores = lstm_mse[valid] if valid.sum() > 50 else dense_mse\n",
    "        pctl_thr = np.percentile(use_scores, PCTL) if len(use_scores) > 0 else np.inf\n",
    "\n",
    "        for s in lstm_mse[np.isfinite(lstm_mse)]:\n",
    "            roll_scores.append(float(s))\n",
    "        if len(roll_scores) > 20:\n",
    "            med = float(np.median(roll_scores))\n",
    "            mad = float(np.median(np.abs(np.array(roll_scores) - med)))\n",
    "            z = robust_z(lstm_mse, med, mad)\n",
    "        else:\n",
    "            z = np.zeros_like(lstm_mse)\n",
    "\n",
    "        base_scores = np.where(np.isfinite(lstm_mse), lstm_mse, dense_mse)\n",
    "        is_point = (base_scores >= pctl_thr) | (z >= Z_THR)\n",
    "\n",
    "        # 8) Pattern anomalies (runs >= MIN_RUN)\n",
    "        above = is_point.astype(bool)\n",
    "        pattern_rows = []\n",
    "        run_len = prev_run_len\n",
    "        run_start_ts = prev_run_start_ts\n",
    "\n",
    "        for i, flag in enumerate(above):\n",
    "            ts = pdf[TIMESTAMP_COL].iloc[i]\n",
    "            if flag:\n",
    "                if run_len == 0:\n",
    "                    run_start_ts = ts\n",
    "                run_len += 1\n",
    "            else:\n",
    "                if run_len >= MIN_RUN:\n",
    "                    pattern_id = int(time.time() * 1000)\n",
    "                    pattern_rows.append({\n",
    "                        \"pattern_id\": pattern_id,\n",
    "                        \"start_ts\": run_start_ts,\n",
    "                        \"end_ts\": pdf[TIMESTAMP_COL].iloc[i-1],\n",
    "                        \"length\": run_len\n",
    "                    })\n",
    "                run_len = 0\n",
    "                run_start_ts = None\n",
    "\n",
    "        prev_run_len = run_len\n",
    "        prev_run_start_ts = run_start_ts\n",
    "\n",
    "        # 9) Contributions (per-point top-K)\n",
    "        err_dense = (Xs - recon_d) ** 2\n",
    "        contrib_l = np.full_like(Xs, np.nan, dtype=\"float32\")\n",
    "        if len(X_seq) > 0:\n",
    "            win_err = ((X_seq - recon_l) ** 2).mean(axis=1)  # (n_win, F)\n",
    "            tmp = np.full_like(Xs_cat, np.nan, dtype=\"float32\")\n",
    "            for i in range(win_err.shape[0]):\n",
    "                last_idx = i * STRIDE + SEQ_LEN - 1\n",
    "                if last_idx < len(tmp):\n",
    "                    tmp[last_idx, :] = win_err[i]\n",
    "            contrib_l = tmp[-len(Xs):]\n",
    "\n",
    "        out_scores = pd.DataFrame({\n",
    "            TIMESTAMP_COL: pdf[TIMESTAMP_COL].values,\n",
    "            \"dense_mse\": dense_mse,\n",
    "            \"lstm_mse\": lstm_mse,\n",
    "            \"is_point\": is_point.astype(bool)\n",
    "        })\n",
    "\n",
    "        point_pdf = out_scores[out_scores[\"is_point\"]].copy()\n",
    "        pattern_pdf = pd.DataFrame(pattern_rows)\n",
    "\n",
    "        contrib_rows = []\n",
    "        for idx in point_pdf.index.tolist():\n",
    "            ts = point_pdf.loc[idx, TIMESTAMP_COL]\n",
    "            per_feat = contrib_l[idx] if np.isfinite(lstm_mse[idx]) else err_dense[idx]\n",
    "            if not np.all(np.isnan(per_feat)):\n",
    "                top_idx = np.argsort(per_feat)[-TOPK:][::-1]\n",
    "                for j in top_idx:\n",
    "                    contrib_rows.append({\n",
    "                        TIMESTAMP_COL: ts,\n",
    "                        \"feature\": FEATURES[j],\n",
    "                        \"contribution\": float(per_feat[j])\n",
    "                    })\n",
    "        contrib_point_pdf = pd.DataFrame(contrib_rows)\n",
    "\n",
    "        # 10) Writes (POSIX paths)\n",
    "        spark.createDataFrame(out_scores).write.mode(\"append\").parquet(scores_path)\n",
    "        if len(point_pdf) > 0:\n",
    "            spark.createDataFrame(point_pdf).write.mode(\"append\").parquet(point_path)\n",
    "        if len(pattern_pdf) > 0:\n",
    "            spark.createDataFrame(pattern_pdf).write.mode(\"append\").parquet(pattern_path)\n",
    "        if len(contrib_point_pdf) > 0:\n",
    "            spark.createDataFrame(contrib_point_pdf).write.mode(\"append\").parquet(contrib_path)\n",
    "\n",
    "        print(f\"[foreachBatch] batch_id={batch_id} wrote: \"\n",
    "              f\"scores={len(out_scores)} points={len(point_pdf)} \"\n",
    "              f\"patterns={len(pattern_pdf)} contribs={len(contrib_point_pdf)}\")\n",
    "\n",
    "    except Exception as e:\n",
    "        print(f\"[foreachBatch] batch_id={batch_id} ERROR: {e}\")\n",
    "        print(traceback.format_exc())\n",
    "        # Uncomment to fail the query fast:\n",
    "        # raise\n",
    "\n"
   ]
  },
  {
   "cell_type": "markdown",
   "id": "90140d4b",
   "metadata": {},
   "source": [
    "## Start Streaming Reader : Writer Should be running "
   ]
  },
  {
   "cell_type": "markdown",
   "id": "3d02dc50",
   "metadata": {},
   "source": [
    "### Run it before starting reader"
   ]
  },
  {
   "cell_type": "code",
   "execution_count": 20,
   "id": "12adaaea",
   "metadata": {},
   "outputs": [
    {
     "name": "stdout",
     "output_type": "stream",
     "text": [
      "No Checkpoints to clear\n"
     ]
    }
   ],
   "source": [
    "import shutil, os\n",
    "if os.path.exists(str(CKPT_DIR)):\n",
    "    shutil.rmtree(str(CKPT_DIR))\n",
    "    print(\"Checkpoint cleared:\", CKPT_DIR)\n",
    "else:\n",
    "    print(\"No Checkpoints to clear\")\n"
   ]
  },
  {
   "cell_type": "markdown",
   "id": "e769601a",
   "metadata": {},
   "source": [
    "### Check if landing dir exits"
   ]
  },
  {
   "cell_type": "code",
   "execution_count": 21,
   "id": "55e6fcd7",
   "metadata": {},
   "outputs": [
    {
     "name": "stdout",
     "output_type": "stream",
     "text": [
      "LANDING_DIR exists: True -> C:\\Users\\Ishaan Tiwari\\Desktop\\Kafka\\landing\n",
      "Parquet present: True\n"
     ]
    }
   ],
   "source": [
    "from pathlib import Path\n",
    "import time, os\n",
    "\n",
    "print(\"LANDING_DIR exists:\", LANDING_DIR.exists(), \"->\", LANDING_DIR)\n",
    "# Wait briefly until a parquet appears if writer is running\n",
    "t0 = time.time()\n",
    "while time.time() - t0 < 10 and not any(LANDING_DIR.rglob(\"*.parquet\")):\n",
    "    time.sleep(0.5)\n",
    "print(\"Parquet present:\", any(LANDING_DIR.rglob(\"*.parquet\")))"
   ]
  },
  {
   "cell_type": "markdown",
   "id": "9b6f42ca",
   "metadata": {},
   "source": [
    "### Check if first parquet is written in lander before start reading"
   ]
  },
  {
   "cell_type": "code",
   "execution_count": 22,
   "id": "4e6b9705",
   "metadata": {},
   "outputs": [
    {
     "name": "stdout",
     "output_type": "stream",
     "text": [
      "First parquet file detected.\n"
     ]
    },
    {
     "data": {
      "text/plain": [
       "True"
      ]
     },
     "execution_count": 22,
     "metadata": {},
     "output_type": "execute_result"
    }
   ],
   "source": [
    "from pathlib import Path\n",
    "import time\n",
    "\n",
    "def wait_for_first_parquet(base: Path, timeout_sec: int = 30):\n",
    "    t0 = time.time()\n",
    "    while time.time() - t0 < timeout_sec:\n",
    "        if any(base.rglob(\"*.parquet\")):\n",
    "            print(\"First parquet file detected.\")\n",
    "            return True\n",
    "        time.sleep(0.5)\n",
    "    print(\"No parquet detected within timeout; continuing anyway.\")\n",
    "    return False\n",
    "\n",
    "wait_for_first_parquet(LANDING_DIR, timeout_sec=30)\n"
   ]
  },
  {
   "cell_type": "code",
   "execution_count": 23,
   "id": "18333101",
   "metadata": {},
   "outputs": [
    {
     "name": "stdout",
     "output_type": "stream",
     "text": [
      "io.native.lib.available = None\n"
     ]
    }
   ],
   "source": [
    "# Should print \"false\"\n",
    "print(\"io.native.lib.available =\", spark.sparkContext._jsc.hadoopConfiguration().get(\"io.native.lib.available\"))"
   ]
  },
  {
   "cell_type": "markdown",
   "id": "39aba088",
   "metadata": {},
   "source": [
    "### Static Reading Test"
   ]
  },
  {
   "cell_type": "code",
   "execution_count": 24,
   "id": "f8b6741d",
   "metadata": {},
   "outputs": [
    {
     "name": "stdout",
     "output_type": "stream",
     "text": [
      "+--------------------------+-----------+---------+---------+----------+---------+----------+---------+---------+---------+---------+----------+------------+---------+----------+---------+-----------+---------+---------+----------+---------+----------+-----------+-----------+----------+---------+------------+-----------+----------+----------+----------+-----------+----------+-----------+----------+----------+----------+-----------+---------+----------+---------+-----------+-----------+---------+----------+---------+-----------+---------+---------+----------+---------+-----------+---------+----------+---------+---------+-----------+---------+---------+----------+---------+\n",
      "|Timestamp                 |signal_1   |signal_2 |signal_3 |signal_4  |signal_5 |signal_6  |signal_7 |signal_8 |signal_9 |signal_10|signal_11 |signal_12   |signal_13|signal_14 |signal_15|signal_16  |signal_17|signal_18|signal_19 |signal_20|signal_21 |signal_22  |signal_23  |signal_24 |signal_25|signal_26   |signal_27  |signal_28 |signal_29 |signal_30 |signal_31  |signal_32 |signal_33  |signal_34 |signal_35 |signal_36 |signal_37  |signal_38|signal_39 |signal_40|signal_41  |signal_42  |signal_43|signal_44 |signal_45|signal_46  |signal_47|signal_48|signal_49 |signal_50|signal_51  |signal_52|signal_53 |signal_54|signal_55|signal_56  |signal_57|signal_58|signal_59 |signal_60|\n",
      "+--------------------------+-----------+---------+---------+----------+---------+----------+---------+---------+---------+---------+----------+------------+---------+----------+---------+-----------+---------+---------+----------+---------+----------+-----------+-----------+----------+---------+------------+-----------+----------+----------+----------+-----------+----------+-----------+----------+----------+----------+-----------+---------+----------+---------+-----------+-----------+---------+----------+---------+-----------+---------+---------+----------+---------+-----------+---------+----------+---------+---------+-----------+---------+---------+----------+---------+\n",
      "|08:20:2025 22:36:09:000000|-0.07968987|-0.8745  |4.942195 |-3.463492 |7.287387 |-0.6065613|1.8218759|4.3236322|-9.995905|8.730847 |-0.5626611|2.8652713   |4.945886 |-3.3493025|13.161638|0.36884573 |0.609686 |0.9411301|-4.55226  |8.447781 |-0.9066809|-0.74250054|0.062688135|-4.3980665|12.384285|-0.060666457|-1.141836  |2.3477368 |-3.9576795|9.479945  |0.64603835 |-2.0130143|0.058387645|-9.177692 |12.0337715|0.49673998|-0.26257217|1.700562 |-9.380549 |11.025452|-0.5127648 |-1.4037001 |1.748987 |-9.2422695|5.26725  |-0.7587353 |2.3243022|3.3871357|-5.9346924|6.9032707|0.72997457 |2.875041 |2.4584632 |-8.17277 |14.52332 |-0.94236326|0.5707611|3.2640681|-3.8732631|11.425478|\n",
      "|08:20:2025 22:36:10:000000|-0.4408569 |2.7392397|0.7867579|-7.6391144|5.8305836|0.3118852 |1.0787255|2.0929148|-4.07915 |6.88054  |0.5190352 |-0.11718757 |1.1633029|-8.349535 |14.775513|0.074311234|2.725086 |4.184627 |-2.2724054|13.918784|0.46021464|1.6454502  |4.070985   |-4.7623158|13.706154|-0.14386134 |-0.15176338|0.28081736|-4.577434 |12.1695795|-0.49678028|-2.1186213|4.1324935  |-7.404349 |7.084063  |0.60708034|-2.0020285 |2.650674 |-6.7033   |5.0810194|0.105236284|-0.39092803|1.5908889|-4.3998237|11.213003|-0.5899271 |2.0921078|1.2636237|-2.622653 |13.96552 |-0.57288474|1.2385106|4.4628153 |-3.738688|10.31984 |0.13671221 |2.9501224|4.724692 |-3.7925563|11.797881|\n",
      "|08:20:2025 22:36:11:000000|-0.13800484|2.7974243|3.1331332|-4.684851 |9.341743 |0.29435962|2.8093054|2.0018888|-4.431394|8.022511 |0.26038668|-0.016622676|3.7877169|-9.84001  |8.442207 |0.3408034  |2.1477127|4.562998 |-6.231713 |5.961535 |-0.9928606|-1.7478926 |4.5329676  |-2.2821498|14.258178|0.2598665   |-1.3632427 |0.4179164 |-7.4921412|9.400344  |0.38475993 |-1.8085372|4.314759   |-6.3901677|6.1718826 |0.555722  |-2.0836284 |0.0406431|-3.5209901|14.506241|0.060012378|0.7369748  |3.8323267|-7.8659024|14.571427|-0.17152019|2.302329 |2.4717736|-9.422615 |8.643991 |0.4407658  |-2.457177|0.27036765|-6.401303|14.746555|0.6880361  |2.7821631|2.9508226|-4.428261 |14.340346|\n",
      "+--------------------------+-----------+---------+---------+----------+---------+----------+---------+---------+---------+---------+----------+------------+---------+----------+---------+-----------+---------+---------+----------+---------+----------+-----------+-----------+----------+---------+------------+-----------+----------+----------+----------+-----------+----------+-----------+----------+----------+----------+-----------+---------+----------+---------+-----------+-----------+---------+----------+---------+-----------+---------+---------+----------+---------+-----------+---------+----------+---------+---------+-----------+---------+---------+----------+---------+\n",
      "only showing top 3 rows\n",
      "\n"
     ]
    }
   ],
   "source": [
    "from pyspark.sql import types as T\n",
    "from pathlib import Path\n",
    "import time\n",
    "\n",
    "LANDING_DIR = Path(r\"C:\\Users\\Ishaan Tiwari\\Desktop\\Kafka\\landing\")\n",
    "landing_path_for_spark = str(LANDING_DIR).replace(\"\\\\\", \"/\")\n",
    "\n",
    "schema = T.StructType([T.StructField(\"Timestamp\", T.StringType(), False)] +\n",
    "                      [T.StructField(f\"signal_{i}\", T.FloatType(), True) for i in range(1, 61)])\n",
    "\n",
    "# ensure at least one parquet exists\n",
    "t0 = time.time()\n",
    "while time.time() - t0 < 10 and not any(LANDING_DIR.rglob(\"*.parquet\")):\n",
    "    time.sleep(0.5)\n",
    "\n",
    "df_static = (spark.read\n",
    "             .format(\"parquet\")\n",
    "             .schema(schema)\n",
    "             .option(\"recursiveFileLookup\", \"true\")\n",
    "             .load(landing_path_for_spark))\n",
    "df_static.show(3, truncate=False)"
   ]
  },
  {
   "cell_type": "code",
   "execution_count": 25,
   "id": "eed76641",
   "metadata": {},
   "outputs": [
    {
     "name": "stdout",
     "output_type": "stream",
     "text": [
      "Static write OK -> C:/Users/Ishaan Tiwari/Desktop/Kafka/silver/scores\n"
     ]
    }
   ],
   "source": [
    "# quick write sanity test\n",
    "test_df = spark.createDataFrame([(\"2025-08-21 00:00:00:000000\", 0.1, 0.2, True)],\n",
    "                                [\"Timestamp\", \"dense_mse\", \"lstm_mse\", \"is_point\"])\n",
    "test_df.write.mode(\"append\").parquet(scores_path)\n",
    "print(\"Static write OK ->\", scores_path)"
   ]
  },
  {
   "cell_type": "code",
   "execution_count": 26,
   "id": "0c283223",
   "metadata": {},
   "outputs": [
    {
     "name": "stdout",
     "output_type": "stream",
     "text": [
      "Files under scores: 2\n"
     ]
    }
   ],
   "source": [
    "import glob\n",
    "print(\"Files under scores:\", len(glob.glob(scores_path + \"/**/*.parquet\", recursive=True)))"
   ]
  },
  {
   "cell_type": "markdown",
   "id": "5f71d037",
   "metadata": {},
   "source": [
    "### Start Reading"
   ]
  },
  {
   "cell_type": "code",
   "execution_count": 27,
   "id": "aa949851",
   "metadata": {},
   "outputs": [],
   "source": [
    "os.environ[\"OMP_NUM_THREADS\"]=\"2\"; os.environ[\"MKL_NUM_THREADS\"]=\"2\"; torch.set_num_threads(2)"
   ]
  },
  {
   "cell_type": "code",
   "execution_count": 28,
   "id": "bd61c5d9",
   "metadata": {},
   "outputs": [],
   "source": [
    "# Define POSIX landing paths (safe on Windows)\n",
    "landing_root = LANDING_DIR.as_posix()\n",
    "landing_glob = f\"{landing_root}/*/*/*/*/*/*\"   # matches YYYY/MM/DD/HH/mm/ss folders\n",
    "\n",
    "# Then use landing_glob instead of LANDING_DIR\n",
    "query = (spark.readStream\n",
    "         .format(\"parquet\")\n",
    "         .schema(schema)\n",
    "         .option(\"recursiveFileLookup\", \"true\")   # still fine\n",
    "         .load(landing_glob)                      # <-- use the glob here\n",
    "         .writeStream\n",
    "         .foreachBatch(score_and_detect)\n",
    "         .option(\"checkpointLocation\", CKPT_DIR.as_posix())\n",
    "         .outputMode(\"append\")\n",
    "         .start())\n"
   ]
  },
  {
   "cell_type": "code",
   "execution_count": 29,
   "id": "b52e783d",
   "metadata": {},
   "outputs": [
    {
     "name": "stdout",
     "output_type": "stream",
     "text": [
      "Active streams: 1\n",
      " - name: None | isActive: True\n",
      "   status: {'message': 'Processing new data', 'isDataAvailable': True, 'isTriggerActive': True}\n",
      "   lastProgress:\n",
      "None\n",
      "[foreachBatch] batch_id=0 received\n",
      "[foreachBatch] batch_id=0 rows=41400\n",
      "[foreachBatch] batch_id=0 limited to 2000 rows\n",
      "root\n",
      " |-- Timestamp: string (nullable = true)\n",
      " |-- signal_1: float (nullable = true)\n",
      " |-- signal_2: float (nullable = true)\n",
      " |-- signal_3: float (nullable = true)\n",
      " |-- signal_4: float (nullable = true)\n",
      " |-- signal_5: float (nullable = true)\n",
      " |-- signal_6: float (nullable = true)\n",
      " |-- signal_7: float (nullable = true)\n",
      " |-- signal_8: float (nullable = true)\n",
      " |-- signal_9: float (nullable = true)\n",
      " |-- signal_10: float (nullable = true)\n",
      " |-- signal_11: float (nullable = true)\n",
      " |-- signal_12: float (nullable = true)\n",
      " |-- signal_13: float (nullable = true)\n",
      " |-- signal_14: float (nullable = true)\n",
      " |-- signal_15: float (nullable = true)\n",
      " |-- signal_16: float (nullable = true)\n",
      " |-- signal_17: float (nullable = true)\n",
      " |-- signal_18: float (nullable = true)\n",
      " |-- signal_19: float (nullable = true)\n",
      " |-- signal_20: float (nullable = true)\n",
      " |-- signal_21: float (nullable = true)\n",
      " |-- signal_22: float (nullable = true)\n",
      " |-- signal_23: float (nullable = true)\n",
      " |-- signal_24: float (nullable = true)\n",
      " |-- signal_25: float (nullable = true)\n",
      " |-- signal_26: float (nullable = true)\n",
      " |-- signal_27: float (nullable = true)\n",
      " |-- signal_28: float (nullable = true)\n",
      " |-- signal_29: float (nullable = true)\n",
      " |-- signal_30: float (nullable = true)\n",
      " |-- signal_31: float (nullable = true)\n",
      " |-- signal_32: float (nullable = true)\n",
      " |-- signal_33: float (nullable = true)\n",
      " |-- signal_34: float (nullable = true)\n",
      " |-- signal_35: float (nullable = true)\n",
      " |-- signal_36: float (nullable = true)\n",
      " |-- signal_37: float (nullable = true)\n",
      " |-- signal_38: float (nullable = true)\n",
      " |-- signal_39: float (nullable = true)\n",
      " |-- signal_40: float (nullable = true)\n",
      " |-- signal_41: float (nullable = true)\n",
      " |-- signal_42: float (nullable = true)\n",
      " |-- signal_43: float (nullable = true)\n",
      " |-- signal_44: float (nullable = true)\n",
      " |-- signal_45: float (nullable = true)\n",
      " |-- signal_46: float (nullable = true)\n",
      " |-- signal_47: float (nullable = true)\n",
      " |-- signal_48: float (nullable = true)\n",
      " |-- signal_49: float (nullable = true)\n",
      " |-- signal_50: float (nullable = true)\n",
      " |-- signal_51: float (nullable = true)\n",
      " |-- signal_52: float (nullable = true)\n",
      " |-- signal_53: float (nullable = true)\n",
      " |-- signal_54: float (nullable = true)\n",
      " |-- signal_55: float (nullable = true)\n",
      " |-- signal_56: float (nullable = true)\n",
      " |-- signal_57: float (nullable = true)\n",
      " |-- signal_58: float (nullable = true)\n",
      " |-- signal_59: float (nullable = true)\n",
      " |-- signal_60: float (nullable = true)\n",
      "\n",
      "[foreachBatch] batch_id=0 sample:\n",
      "                     Timestamp  signal_1  signal_2  signal_3  signal_4  \\\n",
      "0  08:20:2025 22:36:09:000000 -0.079690 -0.874500  4.942195 -3.463492   \n",
      "1  08:20:2025 22:36:10:000000 -0.440857  2.739240  0.786758 -7.639114   \n",
      "2  08:20:2025 22:36:11:000000 -0.138005  2.797424  3.133133 -4.684851   \n",
      "\n",
      "   signal_5  signal_6  signal_7  signal_8  signal_9  ...  signal_51  \\\n",
      "0  7.287387 -0.606561  1.821876  4.323632 -9.995905  ...   0.729975   \n",
      "1  5.830584  0.311885  1.078725  2.092915 -4.079150  ...  -0.572885   \n",
      "2  9.341743  0.294360  2.809305  2.001889 -4.431394  ...   0.440766   \n",
      "\n",
      "   signal_52  signal_53  signal_54  signal_55  signal_56  signal_57  \\\n",
      "0   2.875041   2.458463  -8.172770  14.523320  -0.942363   0.570761   \n",
      "1   1.238511   4.462815  -3.738688  10.319840   0.136712   2.950122   \n",
      "2  -2.457177   0.270368  -6.401303  14.746555   0.688036   2.782163   \n",
      "\n",
      "   signal_58  signal_59  signal_60  \n",
      "0   3.264068  -3.873263  11.425478  \n",
      "1   4.724692  -3.792556  11.797881  \n",
      "2   2.950823  -4.428261  14.340346  \n",
      "\n",
      "[3 rows x 61 columns]\n",
      "[foreachBatch] batch_id=0 wrote: scores=2000 points=20 patterns=1 contribs=100\n",
      "[foreachBatch] batch_id=1 received\n",
      "[foreachBatch] batch_id=1 rows=6600\n",
      "[foreachBatch] batch_id=1 limited to 2000 rows\n",
      "root\n",
      " |-- Timestamp: string (nullable = true)\n",
      " |-- signal_1: float (nullable = true)\n",
      " |-- signal_2: float (nullable = true)\n",
      " |-- signal_3: float (nullable = true)\n",
      " |-- signal_4: float (nullable = true)\n",
      " |-- signal_5: float (nullable = true)\n",
      " |-- signal_6: float (nullable = true)\n",
      " |-- signal_7: float (nullable = true)\n",
      " |-- signal_8: float (nullable = true)\n",
      " |-- signal_9: float (nullable = true)\n",
      " |-- signal_10: float (nullable = true)\n",
      " |-- signal_11: float (nullable = true)\n",
      " |-- signal_12: float (nullable = true)\n",
      " |-- signal_13: float (nullable = true)\n",
      " |-- signal_14: float (nullable = true)\n",
      " |-- signal_15: float (nullable = true)\n",
      " |-- signal_16: float (nullable = true)\n",
      " |-- signal_17: float (nullable = true)\n",
      " |-- signal_18: float (nullable = true)\n",
      " |-- signal_19: float (nullable = true)\n",
      " |-- signal_20: float (nullable = true)\n",
      " |-- signal_21: float (nullable = true)\n",
      " |-- signal_22: float (nullable = true)\n",
      " |-- signal_23: float (nullable = true)\n",
      " |-- signal_24: float (nullable = true)\n",
      " |-- signal_25: float (nullable = true)\n",
      " |-- signal_26: float (nullable = true)\n",
      " |-- signal_27: float (nullable = true)\n",
      " |-- signal_28: float (nullable = true)\n",
      " |-- signal_29: float (nullable = true)\n",
      " |-- signal_30: float (nullable = true)\n",
      " |-- signal_31: float (nullable = true)\n",
      " |-- signal_32: float (nullable = true)\n",
      " |-- signal_33: float (nullable = true)\n",
      " |-- signal_34: float (nullable = true)\n",
      " |-- signal_35: float (nullable = true)\n",
      " |-- signal_36: float (nullable = true)\n",
      " |-- signal_37: float (nullable = true)\n",
      " |-- signal_38: float (nullable = true)\n",
      " |-- signal_39: float (nullable = true)\n",
      " |-- signal_40: float (nullable = true)\n",
      " |-- signal_41: float (nullable = true)\n",
      " |-- signal_42: float (nullable = true)\n",
      " |-- signal_43: float (nullable = true)\n",
      " |-- signal_44: float (nullable = true)\n",
      " |-- signal_45: float (nullable = true)\n",
      " |-- signal_46: float (nullable = true)\n",
      " |-- signal_47: float (nullable = true)\n",
      " |-- signal_48: float (nullable = true)\n",
      " |-- signal_49: float (nullable = true)\n",
      " |-- signal_50: float (nullable = true)\n",
      " |-- signal_51: float (nullable = true)\n",
      " |-- signal_52: float (nullable = true)\n",
      " |-- signal_53: float (nullable = true)\n",
      " |-- signal_54: float (nullable = true)\n",
      " |-- signal_55: float (nullable = true)\n",
      " |-- signal_56: float (nullable = true)\n",
      " |-- signal_57: float (nullable = true)\n",
      " |-- signal_58: float (nullable = true)\n",
      " |-- signal_59: float (nullable = true)\n",
      " |-- signal_60: float (nullable = true)\n",
      "\n",
      "[foreachBatch] batch_id=1 sample:\n",
      "                     Timestamp  signal_1  signal_2  signal_3  signal_4  \\\n",
      "0  08:20:2025 23:58:21:000000 -0.275339 -1.332516  4.885603 -8.959083   \n",
      "1  08:20:2025 23:58:22:000000  0.483952  1.112870  4.936103 -2.615018   \n",
      "2  08:20:2025 23:58:23:000000 -0.348391  2.947129  3.722384 -2.695744   \n",
      "\n",
      "    signal_5  signal_6  signal_7  signal_8  signal_9  ...  signal_51  \\\n",
      "0  12.210346  0.229761  2.625919  1.504947 -8.865865  ...   0.064104   \n",
      "1  13.296161 -0.721158 -1.143387  4.966525 -3.712933  ...  -0.549327   \n",
      "2   7.285336  0.468489  1.998073  3.747781 -6.047291  ...   0.311581   \n",
      "\n",
      "   signal_52  signal_53  signal_54  signal_55  signal_56  signal_57  \\\n",
      "0  -2.220547   2.189897  -5.883199  10.645524  -0.713818   1.585011   \n",
      "1   1.637218   4.967721  -5.490722   7.479434   0.475678  -2.265898   \n",
      "2   2.224513   1.105215  -8.126585  12.772154  -0.685674   0.894550   \n",
      "\n",
      "   signal_58  signal_59  signal_60  \n",
      "0   1.960632  -5.967193  13.141521  \n",
      "1   3.809385  -3.394009   7.529537  \n",
      "2   1.945955  -8.492996   9.385756  \n",
      "\n",
      "[3 rows x 61 columns]\n"
     ]
    }
   ],
   "source": [
    "from pprint import pprint\n",
    "print(\"Active streams:\", len(spark.streams.active))\n",
    "for q in spark.streams.active:\n",
    "    print(\" - name:\", q.name, \"| isActive:\", q.isActive)\n",
    "    print(\"   status:\", q.status)\n",
    "    print(\"   lastProgress:\"); pprint(q.lastProgress)"
   ]
  },
  {
   "cell_type": "markdown",
   "id": "5d7b1432",
   "metadata": {},
   "source": [
    "## Stop Stream Reading"
   ]
  },
  {
   "cell_type": "code",
   "execution_count": null,
   "id": "9486a09a",
   "metadata": {},
   "outputs": [],
   "source": [
    "query.stop()"
   ]
  },
  {
   "cell_type": "markdown",
   "id": "ab9990a1",
   "metadata": {},
   "source": [
    "## Visualization "
   ]
  },
  {
   "cell_type": "code",
   "execution_count": 30,
   "id": "26f5cd74",
   "metadata": {},
   "outputs": [
    {
     "name": "stdout",
     "output_type": "stream",
     "text": [
      "[foreachBatch] batch_id=1 wrote: scores=2000 points=10 patterns=0 contribs=50\n",
      "[foreachBatch] batch_id=2 received\n",
      "[foreachBatch] batch_id=2 rows=5200\n",
      "[foreachBatch] batch_id=2 limited to 2000 rows\n",
      "root\n",
      " |-- Timestamp: string (nullable = true)\n",
      " |-- signal_1: float (nullable = true)\n",
      " |-- signal_2: float (nullable = true)\n",
      " |-- signal_3: float (nullable = true)\n",
      " |-- signal_4: float (nullable = true)\n",
      " |-- signal_5: float (nullable = true)\n",
      " |-- signal_6: float (nullable = true)\n",
      " |-- signal_7: float (nullable = true)\n",
      " |-- signal_8: float (nullable = true)\n",
      " |-- signal_9: float (nullable = true)\n",
      " |-- signal_10: float (nullable = true)\n",
      " |-- signal_11: float (nullable = true)\n",
      " |-- signal_12: float (nullable = true)\n",
      " |-- signal_13: float (nullable = true)\n",
      " |-- signal_14: float (nullable = true)\n",
      " |-- signal_15: float (nullable = true)\n",
      " |-- signal_16: float (nullable = true)\n",
      " |-- signal_17: float (nullable = true)\n",
      " |-- signal_18: float (nullable = true)\n",
      " |-- signal_19: float (nullable = true)\n",
      " |-- signal_20: float (nullable = true)\n",
      " |-- signal_21: float (nullable = true)\n",
      " |-- signal_22: float (nullable = true)\n",
      " |-- signal_23: float (nullable = true)\n",
      " |-- signal_24: float (nullable = true)\n",
      " |-- signal_25: float (nullable = true)\n",
      " |-- signal_26: float (nullable = true)\n",
      " |-- signal_27: float (nullable = true)\n",
      " |-- signal_28: float (nullable = true)\n",
      " |-- signal_29: float (nullable = true)\n",
      " |-- signal_30: float (nullable = true)\n",
      " |-- signal_31: float (nullable = true)\n",
      " |-- signal_32: float (nullable = true)\n",
      " |-- signal_33: float (nullable = true)\n",
      " |-- signal_34: float (nullable = true)\n",
      " |-- signal_35: float (nullable = true)\n",
      " |-- signal_36: float (nullable = true)\n",
      " |-- signal_37: float (nullable = true)\n",
      " |-- signal_38: float (nullable = true)\n",
      " |-- signal_39: float (nullable = true)\n",
      " |-- signal_40: float (nullable = true)\n",
      " |-- signal_41: float (nullable = true)\n",
      " |-- signal_42: float (nullable = true)\n",
      " |-- signal_43: float (nullable = true)\n",
      " |-- signal_44: float (nullable = true)\n",
      " |-- signal_45: float (nullable = true)\n",
      " |-- signal_46: float (nullable = true)\n",
      " |-- signal_47: float (nullable = true)\n",
      " |-- signal_48: float (nullable = true)\n",
      " |-- signal_49: float (nullable = true)\n",
      " |-- signal_50: float (nullable = true)\n",
      " |-- signal_51: float (nullable = true)\n",
      " |-- signal_52: float (nullable = true)\n",
      " |-- signal_53: float (nullable = true)\n",
      " |-- signal_54: float (nullable = true)\n",
      " |-- signal_55: float (nullable = true)\n",
      " |-- signal_56: float (nullable = true)\n",
      " |-- signal_57: float (nullable = true)\n",
      " |-- signal_58: float (nullable = true)\n",
      " |-- signal_59: float (nullable = true)\n",
      " |-- signal_60: float (nullable = true)\n",
      "\n",
      "[foreachBatch] batch_id=2 sample:\n",
      "                     Timestamp  signal_1  signal_2  signal_3  signal_4  \\\n",
      "0  08:21:2025 02:01:41:000000 -0.158473  1.070275  3.816905 -8.903638   \n",
      "1  08:21:2025 02:01:42:000000  0.019706 -2.983380  4.700063 -9.275432   \n",
      "2  08:21:2025 02:01:43:000000  0.535535 -0.895185  0.088646 -3.425444   \n",
      "\n",
      "   signal_5  signal_6  signal_7  signal_8  signal_9  ...  signal_51  \\\n",
      "0  8.829117 -0.122235 -2.486715  1.979733 -9.179896  ...   0.997456   \n",
      "1  6.596935  0.319396 -0.376025  4.221653 -9.776714  ...   0.224589   \n",
      "2  8.226647  0.772609  1.951827  4.740591 -3.611717  ...  -0.459612   \n",
      "\n",
      "   signal_52  signal_53  signal_54  signal_55  signal_56  signal_57  \\\n",
      "0  -1.134035   4.327936  -6.798248  14.088366   0.251310   0.469290   \n",
      "1   2.438603   4.310486  -7.584394  13.880799   0.332753   0.458569   \n",
      "2   0.007957   0.135672  -3.762273   7.478473  -0.722038  -0.308629   \n",
      "\n",
      "   signal_58  signal_59  signal_60  \n",
      "0   3.873173  -6.986210   8.553401  \n",
      "1   2.596441  -7.802004   9.625361  \n",
      "2   0.862871  -7.522818   6.365247  \n",
      "\n",
      "[3 rows x 61 columns]\n"
     ]
    }
   ],
   "source": [
    "# %%\n",
    "def load_scores(limit_rows: int = 10000) -> pd.DataFrame:\n",
    "    files = list(SCORES_DIR.glob(\"*.parquet\")) or list(SCORES_DIR.rglob(\"*.parquet\"))\n",
    "    if not files:\n",
    "        return pd.DataFrame()\n",
    "    pdf = pd.concat([pd.read_parquet(f) for f in files], ignore_index=True)\n",
    "    pdf = pdf.sort_values(TIMESTAMP_COL)\n",
    "    if limit_rows:\n",
    "        pdf = pdf.head(limit_rows)\n",
    "    return pdf\n",
    "\n",
    "def plot_healthscores(limit_rows: int = 5000):\n",
    "    pdf = load_scores(limit_rows)\n",
    "    if pdf.empty:\n",
    "        print(\"No scored data yet.\"); return\n",
    "    x = np.arange(len(pdf))\n",
    "    plt.figure()\n",
    "    plt.plot(x, pdf[\"dense_mse\"].values, label=\"dense_mse\")\n",
    "    plt.plot(x, np.nan_to_num(pdf[\"lstm_mse\"].values, nan=np.nan), label=\"lstm_mse\")\n",
    "    if \"is_point\" in pdf.columns:\n",
    "        idx = np.where(pdf[\"is_point\"].values)[0]\n",
    "        if len(idx) > 0:\n",
    "            plt.scatter(idx, pdf[\"lstm_mse\"].values[idx], marker='x', label='point anom')\n",
    "    plt.legend(); plt.title(\"Healthscores\"); plt.xlabel(\"row index\"); plt.ylabel(\"MSE\")\n",
    "    plt.show()\n",
    "\n",
    "def plot_global_contributors(topn: int = 15):\n",
    "    files = list(CONTR_P_DIR.rglob(\"*.parquet\"))\n",
    "    if not files:\n",
    "        print(\"No contribution data yet.\"); return\n",
    "    pdf = pd.concat([pd.read_parquet(f) for f in files], ignore_index=True)\n",
    "    agg = (pdf.groupby(\"feature\")[\"contribution\"].sum().sort_values(ascending=False).head(topn))\n",
    "    plt.figure()\n",
    "    plt.bar(agg.index.tolist(), agg.values)\n",
    "    plt.xticks(rotation=60, ha='right')\n",
    "    plt.title(\"Top Global Contributors (Point Anomalies)\")\n",
    "    plt.xlabel(\"feature\"); plt.ylabel(\"sum contribution\")\n",
    "    plt.tight_layout(); plt.show()\n"
   ]
  },
  {
   "cell_type": "markdown",
   "id": "89bdd640",
   "metadata": {},
   "source": [
    "## Visulaization Mannual Refresh"
   ]
  },
  {
   "cell_type": "code",
   "execution_count": 39,
   "id": "da1aa632",
   "metadata": {},
   "outputs": [
    {
     "data": {
      "image/png": "[encoded data removed]",
      "text/plain": [
       "<Figure size 432x288 with 1 Axes>"
      ]
     },
     "metadata": {
      "needs_background": "light"
     },
     "output_type": "display_data"
    },
    {
     "data": {
      "image/png": "[encoded data removed]",
      "text/plain": [
       "<Figure size 432x288 with 1 Axes>"
      ]
     },
     "metadata": {
      "needs_background": "light"
     },
     "output_type": "display_data"
    },
    {
     "name": "stdout",
     "output_type": "stream",
     "text": [
      "[foreachBatch] batch_id=9 wrote: scores=2000 points=10 patterns=1 contribs=50\n",
      "[foreachBatch] batch_id=10 received\n",
      "[foreachBatch] batch_id=10 rows=2600\n",
      "[foreachBatch] batch_id=10 limited to 2000 rows\n",
      "root\n",
      " |-- Timestamp: string (nullable = true)\n",
      " |-- signal_1: float (nullable = true)\n",
      " |-- signal_2: float (nullable = true)\n",
      " |-- signal_3: float (nullable = true)\n",
      " |-- signal_4: float (nullable = true)\n",
      " |-- signal_5: float (nullable = true)\n",
      " |-- signal_6: float (nullable = true)\n",
      " |-- signal_7: float (nullable = true)\n",
      " |-- signal_8: float (nullable = true)\n",
      " |-- signal_9: float (nullable = true)\n",
      " |-- signal_10: float (nullable = true)\n",
      " |-- signal_11: float (nullable = true)\n",
      " |-- signal_12: float (nullable = true)\n",
      " |-- signal_13: float (nullable = true)\n",
      " |-- signal_14: float (nullable = true)\n",
      " |-- signal_15: float (nullable = true)\n",
      " |-- signal_16: float (nullable = true)\n",
      " |-- signal_17: float (nullable = true)\n",
      " |-- signal_18: float (nullable = true)\n",
      " |-- signal_19: float (nullable = true)\n",
      " |-- signal_20: float (nullable = true)\n",
      " |-- signal_21: float (nullable = true)\n",
      " |-- signal_22: float (nullable = true)\n",
      " |-- signal_23: float (nullable = true)\n",
      " |-- signal_24: float (nullable = true)\n",
      " |-- signal_25: float (nullable = true)\n",
      " |-- signal_26: float (nullable = true)\n",
      " |-- signal_27: float (nullable = true)\n",
      " |-- signal_28: float (nullable = true)\n",
      " |-- signal_29: float (nullable = true)\n",
      " |-- signal_30: float (nullable = true)\n",
      " |-- signal_31: float (nullable = true)\n",
      " |-- signal_32: float (nullable = true)\n",
      " |-- signal_33: float (nullable = true)\n",
      " |-- signal_34: float (nullable = true)\n",
      " |-- signal_35: float (nullable = true)\n",
      " |-- signal_36: float (nullable = true)\n",
      " |-- signal_37: float (nullable = true)\n",
      " |-- signal_38: float (nullable = true)\n",
      " |-- signal_39: float (nullable = true)\n",
      " |-- signal_40: float (nullable = true)\n",
      " |-- signal_41: float (nullable = true)\n",
      " |-- signal_42: float (nullable = true)\n",
      " |-- signal_43: float (nullable = true)\n",
      " |-- signal_44: float (nullable = true)\n",
      " |-- signal_45: float (nullable = true)\n",
      " |-- signal_46: float (nullable = true)\n",
      " |-- signal_47: float (nullable = true)\n",
      " |-- signal_48: float (nullable = true)\n",
      " |-- signal_49: float (nullable = true)\n",
      " |-- signal_50: float (nullable = true)\n",
      " |-- signal_51: float (nullable = true)\n",
      " |-- signal_52: float (nullable = true)\n",
      " |-- signal_53: float (nullable = true)\n",
      " |-- signal_54: float (nullable = true)\n",
      " |-- signal_55: float (nullable = true)\n",
      " |-- signal_56: float (nullable = true)\n",
      " |-- signal_57: float (nullable = true)\n",
      " |-- signal_58: float (nullable = true)\n",
      " |-- signal_59: float (nullable = true)\n",
      " |-- signal_60: float (nullable = true)\n",
      "\n",
      "[foreachBatch] batch_id=10 sample:\n",
      "                     Timestamp  signal_1  signal_2  signal_3  signal_4  \\\n",
      "0  08:21:2025 13:01:41:000000 -0.108333  2.625373  0.022492 -8.808462   \n",
      "1  08:21:2025 13:01:42:000000 -0.666032 -2.798801  2.292369 -7.515507   \n",
      "2  08:21:2025 13:01:43:000000 -0.184838  1.711308  4.857296 -8.376437   \n",
      "\n",
      "   signal_5  signal_6  signal_7  signal_8  signal_9  ...  signal_51  \\\n",
      "0  6.118496 -0.893213 -1.435566  2.733607 -8.042269  ...  -0.517102   \n",
      "1  5.350833 -0.989110 -1.972393  1.260788 -7.478879  ...  -0.291732   \n",
      "2  9.450356  0.736816  1.020223  4.458422 -4.650609  ...   0.876449   \n",
      "\n",
      "   signal_52  signal_53  signal_54  signal_55  signal_56  signal_57  \\\n",
      "0  -2.342550   1.818363  -4.687565   8.395308   0.761890   1.238479   \n",
      "1  -2.134014   4.311139  -2.723828  10.876144   0.386633   2.371433   \n",
      "2   2.393504   0.191186  -8.017009   6.292014  -0.604997   2.428387   \n",
      "\n",
      "   signal_58  signal_59  signal_60  \n",
      "0   2.286431  -9.182464  12.977004  \n",
      "1   2.320154  -5.579893   6.098042  \n",
      "2   4.674664  -3.257782  14.676584  \n",
      "\n",
      "[3 rows x 61 columns]\n",
      "[foreachBatch] batch_id=10 wrote: scores=2000 points=10 patterns=0 contribs=50\n"
     ]
    }
   ],
   "source": [
    "load_scores(1000)\n",
    "plot_healthscores(5000)\n",
    "plot_global_contributors(15)"
   ]
  },
  {
   "cell_type": "code",
   "execution_count": null,
   "id": "79cb4606",
   "metadata": {},
   "outputs": [],
   "source": []
  }
 ],
 "metadata": {
  "kernelspec": {
   "display_name": "Python 3 (ipykernel)",
   "language": "python",
   "name": "python3"
  },
  "language_info": {
   "codemirror_mode": {
    "name": "ipython",
    "version": 3
   },
   "file_extension": ".py",
   "mimetype": "text/x-python",
   "name": "python",
   "nbconvert_exporter": "python",
   "pygments_lexer": "ipython3",
   "version": "3.9.7"
  }
 },
 "nbformat": 4,
 "nbformat_minor": 5
}
