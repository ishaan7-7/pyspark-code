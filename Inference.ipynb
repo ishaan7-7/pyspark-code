{
 "cells": [
  {
   "cell_type": "code",
   "execution_count": 1,
   "id": "c1fff53d",
   "metadata": {},
   "outputs": [
    {
     "name": "stdout",
     "output_type": "stream",
     "text": [
      "PySpark: 3.5.1\n"
     ]
    }
   ],
   "source": [
    "import pyspark\n",
    "print(\"PySpark:\", pyspark.__version__)"
   ]
  },
  {
   "cell_type": "code",
   "execution_count": 2,
   "id": "9504736d",
   "metadata": {},
   "outputs": [],
   "source": [
    "import os, json, time\n",
    "from pathlib import Path\n",
    "from collections import deque\n",
    "from typing import List"
   ]
  },
  {
   "cell_type": "code",
   "execution_count": 3,
   "id": "081ebed6",
   "metadata": {},
   "outputs": [],
   "source": [
    "import numpy as np\n",
    "import pandas as pd"
   ]
  },
  {
   "cell_type": "code",
   "execution_count": 4,
   "id": "fb3f1d26",
   "metadata": {},
   "outputs": [],
   "source": [
    "from pyspark.sql import SparkSession, functions as F"
   ]
  },
  {
   "cell_type": "code",
   "execution_count": 5,
   "id": "d5823355",
   "metadata": {},
   "outputs": [],
   "source": [
    "import joblib\n",
    "import torch\n",
    "import torch.nn as nn"
   ]
  },
  {
   "cell_type": "code",
   "execution_count": 6,
   "id": "b96506c0",
   "metadata": {},
   "outputs": [],
   "source": [
    "import matplotlib.pyplot as plt"
   ]
  },
  {
   "cell_type": "code",
   "execution_count": 7,
   "id": "8201fc70",
   "metadata": {},
   "outputs": [
    {
     "name": "stdout",
     "output_type": "stream",
     "text": [
      "No session found\n",
      "Checkpoint cleared.\n"
     ]
    }
   ],
   "source": [
    "from pyspark.sql import SparkSession\n",
    "\n",
    "active = SparkSession.getActiveSession()\n",
    "if active is not None:\n",
    "    try:\n",
    "        active.stop()\n",
    "        print(\"Stopped previous SparkSession.\")\n",
    "    except Exception as e:\n",
    "        print(\"Spark stop warning:\", e)\n",
    "else:\n",
    "    print(\"No session found\")\n",
    "    \n",
    "import shutil, os\n",
    "CKPT_DIR = r\"./ckpt_landing_stream\"\n",
    "if os.path.exists(CKPT_DIR):\n",
    "    shutil.rmtree(CKPT_DIR)\n",
    "    print(\"Checkpoint cleared.\")\n"
   ]
  },
  {
   "cell_type": "code",
   "execution_count": 8,
   "id": "82f059c0",
   "metadata": {},
   "outputs": [],
   "source": [
    "import os, subprocess\n",
    "os.environ[\"JAVA_HOME\"] = r\"C:\\Program Files\\Eclipse Adoptium\\jdk-11.0.28.6-hotspot\"  # Windows example\n",
    "os.environ[\"PATH\"] = os.environ[\"JAVA_HOME\"] + r\"\\bin;\" + os.environ[\"PATH\"]"
   ]
  },
  {
   "cell_type": "code",
   "execution_count": 9,
   "id": "2658d0d3",
   "metadata": {},
   "outputs": [
    {
     "name": "stdout",
     "output_type": "stream",
     "text": [
      "Python: 3.9.7\n",
      "PySpark: 3.5.1\n",
      "JAVA_HOME: C:\\Program Files\\Eclipse Adoptium\\jdk-11.0.28.6-hotspot\n",
      "java -version:\n",
      " openjdk version \"11.0.28\" 2025-07-15\r\n",
      "OpenJDK Runtime Environment Temurin-11.0.28+6 (build 11.0.28+6)\r\n",
      "OpenJDK 64-Bit Server VM Temurin-11.0.28+6 (build 11.0.28+6, mixed mode)\r\n",
      "\n"
     ]
    }
   ],
   "source": [
    "import os, subprocess, sys, pyspark\n",
    "print(\"Python:\", sys.version.split()[0])\n",
    "print(\"PySpark:\", pyspark.__version__)\n",
    "print(\"JAVA_HOME:\", os.environ.get(\"JAVA_HOME\"))\n",
    "try:\n",
    "    out = subprocess.check_output([\"java\", \"-version\"], stderr=subprocess.STDOUT).decode()\n",
    "    print(\"java -version:\\n\", out)\n",
    "except Exception as e:\n",
    "    print(\"java -version not runnable:\", e)\n"
   ]
  },
  {
   "cell_type": "code",
   "execution_count": 10,
   "id": "8541b372",
   "metadata": {},
   "outputs": [
    {
     "name": "stdout",
     "output_type": "stream",
     "text": [
      "JAVA_HOME: C:\\Program Files\\Eclipse Adoptium\\jdk-11.0.28.6-hotspot\n",
      "openjdk version \"11.0.28\" 2025-07-15\r\n",
      "OpenJDK Runtime Environment Temurin-11.0.28+6 (build 11.0.28+6)\r\n",
      "OpenJDK 64-Bit Server VM Temurin-11.0.28+6 (build 11.0.28+6, mixed mode)\r\n",
      "\n"
     ]
    }
   ],
   "source": [
    "print(\"JAVA_HOME:\", os.environ.get(\"JAVA_HOME\"))\n",
    "print(subprocess.check_output([\"java\",\"-version\"], stderr=subprocess.STDOUT).decode())"
   ]
  },
  {
   "cell_type": "code",
   "execution_count": 11,
   "id": "e65d3623",
   "metadata": {},
   "outputs": [
    {
     "name": "stdout",
     "output_type": "stream",
     "text": [
      "Using Python: C:\\ProgramData\\Anaconda3\\python.exe\n"
     ]
    }
   ],
   "source": [
    "import os, sys\n",
    "os.environ[\"PYSPARK_PYTHON\"] = sys.executable          # executor side\n",
    "os.environ[\"PYSPARK_DRIVER_PYTHON\"] = sys.executable   # driver side\n",
    "print(\"Using Python:\", sys.executable)"
   ]
  },
  {
   "cell_type": "code",
   "execution_count": 12,
   "id": "eac48d08",
   "metadata": {},
   "outputs": [],
   "source": [
    "#%pip install \"pyspark==3.5.1\""
   ]
  },
  {
   "cell_type": "code",
   "execution_count": 13,
   "id": "72797514",
   "metadata": {},
   "outputs": [
    {
     "name": "stdout",
     "output_type": "stream",
     "text": [
      "winutils OK\n"
     ]
    }
   ],
   "source": [
    "import os, subprocess, sys\n",
    "\n",
    "# Make sure these files exist:\n",
    "# C:\\hadoop\\bin\\winutils.exe   and   C:\\hadoop\\bin\\hadoop.dll\n",
    "os.environ[\"HADOOP_HOME\"] = r\"C:\\hadoop\"              # env var can keep backslashes\n",
    "os.environ[\"PATH\"] = r\"C:\\hadoop\\bin;\" + os.environ[\"PATH\"]\n",
    "\n",
    "# Sanity: winutils should run\n",
    "try:\n",
    "    out = subprocess.check_output([r\"C:\\hadoop\\bin\\winutils.exe\", \"ls\", r\"C:\\hadoop\\bin\"], stderr=subprocess.STDOUT).decode()\n",
    "    print(\"winutils OK\")\n",
    "except Exception as e:\n",
    "    print(\"winutils test failed:\", e)\n",
    "\n"
   ]
  },
  {
   "cell_type": "code",
   "execution_count": 14,
   "id": "ecbc0962",
   "metadata": {},
   "outputs": [],
   "source": [
    "\n",
    "import os, sys\n",
    "os.environ[\"OMP_NUM_THREADS\"] = \"2\"\n",
    "os.environ[\"MKL_NUM_THREADS\"] = \"2\"\n",
    "\n",
    "os.environ[\"PYSPARK_PYTHON\"] = sys.executable\n",
    "os.environ[\"PYSPARK_DRIVER_PYTHON\"] = sys.executable\n"
   ]
  },
  {
   "cell_type": "code",
   "execution_count": 15,
   "id": "7ceb2f60",
   "metadata": {},
   "outputs": [
    {
     "name": "stdout",
     "output_type": "stream",
     "text": [
      "Spark started in 4.96s\n"
     ]
    }
   ],
   "source": [
    "from pyspark.sql import SparkSession\n",
    "import time\n",
    "\n",
    "t0 = time.time()\n",
    "spark = (\n",
    "    SparkSession.builder\n",
    "    .master(\"local[*]\")\n",
    "    .appName(\"StreamingReader\")\n",
    "    # point Spark explicitly to this Python\n",
    "    .config(\"spark.pyspark.python\", sys.executable)\n",
    "    .config(\"spark.pyspark.driver.python\", sys.executable)\n",
    "    # (keep your other configs: UI off, warehouse dir, hadoop home dir, etc.)\n",
    "    .config(\"spark.ui.enabled\", \"false\")\n",
    "    .config(\"spark.ui.showConsoleProgress\", \"false\")\n",
    "    .config(\"spark.sql.catalogImplementation\", \"in-memory\")\n",
    "    .config(\"spark.sql.shuffle.partitions\", \"8\")\n",
    "    .config(\"spark.default.parallelism\", \"8\")\n",
    "    .config(\"spark.driver.host\", \"127.0.0.1\")\n",
    "    .config(\"spark.driver.bindAddress\", \"127.0.0.1\")\n",
    "    .config(\"spark.local.dir\", r\"C:\\spark-temp\")\n",
    "    .config(\"spark.sql.warehouse.dir\", r\"C:\\spark-warehouse\")\n",
    "    # keep your Hadoop/winutils settings if you added them:\n",
    "    .config(\"spark.driver.extraJavaOptions\", \"-Dhadoop.home.dir=C:/hadoop -Djava.net.preferIPv4Stack=true -Dsun.net.inetaddr.ttl=60\")\n",
    "    .config(\"spark.executor.extraJavaOptions\", \"-Dhadoop.home.dir=C:/hadoop\")\n",
    "    .getOrCreate()\n",
    ")\n",
    "print(f\"Spark started in {time.time() - t0:.2f}s\")\n"
   ]
  },
  {
   "cell_type": "code",
   "execution_count": 16,
   "id": "d3d001ea",
   "metadata": {},
   "outputs": [
    {
     "name": "stdout",
     "output_type": "stream",
     "text": [
      "Reading from: C:/Users/Ishaan Tiwari/Desktop/Kafka/landing\n",
      "Checkpoint: C:/Users/Ishaan Tiwari/Desktop/Kafka/ckpt_landing_stream\n",
      "Inference device: cpu\n"
     ]
    }
   ],
   "source": [
    "# %%\n",
    "FEATURES: List[str] = [f\"signal_{i}\" for i in range(1, 61)]\n",
    "TIMESTAMP_COL = \"Timestamp\"\n",
    "\n",
    "ART_DIR = Path(\"artifacts\")\n",
    "SCALER_PROD_PATH = ART_DIR / \"scaler_prod.joblib\"\n",
    "DENSE_PT_PATH    = ART_DIR / \"dense_ae.pt\"\n",
    "LSTM_PT_PATH     = ART_DIR / \"lstm_ae.pt\"\n",
    "BEST_PARAMS_PATH = ART_DIR / \"best_params.json\"\n",
    "FEATURES_JSON    = ART_DIR / \"features.json\"\n",
    "\n",
    "\n",
    "LANDING_DIR = Path(r\"C:\\Users\\Ishaan Tiwari\\Desktop\\Kafka\\landing\")\n",
    "CKPT_DIR    = Path(r\"C:\\Users\\Ishaan Tiwari\\Desktop\\Kafka\\ckpt_landing_stream\")\n",
    "\n",
    "# Use POSIX-style strings for Spark on Windows\n",
    "landing_path_for_spark = LANDING_DIR.as_posix()\n",
    "ckpt_path_for_spark    = CKPT_DIR.as_posix()\n",
    "\n",
    "print(\"Reading from:\", landing_path_for_spark)\n",
    "print(\"Checkpoint:\", ckpt_path_for_spark)\n",
    "SILVER_DIR  = Path(r\"C:\\Users\\Ishaan Tiwari\\Desktop\\Kafka\\silver\")\n",
    "SCORES_DIR  = SILVER_DIR / \"scores\"\n",
    "POINT_DIR   = SILVER_DIR / \"anomalies_point\"\n",
    "PATTERN_DIR = SILVER_DIR / \"anomalies_pattern\"\n",
    "CONTR_P_DIR = SILVER_DIR / \"contribs_point\"\n",
    "\n",
    "# Posix strings for Spark I/O\n",
    "scores_path  = SCORES_DIR.as_posix()\n",
    "point_path   = POINT_DIR.as_posix()\n",
    "pattern_path = PATTERN_DIR.as_posix()\n",
    "contrib_path = CONTR_P_DIR.as_posix()\n",
    "ckpt_path    = CKPT_DIR.as_posix()\n",
    "\n",
    "for d in [SILVER_DIR, SCORES_DIR, POINT_DIR, PATTERN_DIR, CONTR_P_DIR]:\n",
    "    d.mkdir(parents=True, exist_ok=True)\n",
    "    \n",
    "\n",
    "# Detection params\n",
    "PCTL    = 99          # percentile threshold\n",
    "Z_THR   = 6.0         # robust-z cutoff\n",
    "MIN_RUN = 5           # consecutive points to declare a pattern\n",
    "SEQ_LEN = 30          # should match training\n",
    "STRIDE  = 1\n",
    "TOPK    = 10  \n",
    "\n",
    "DEVICE = torch.device(\"cuda\" if torch.cuda.is_available() else \"cpu\")\n",
    "print(\"Inference device:\", DEVICE)\n"
   ]
  },
  {
   "cell_type": "code",
   "execution_count": 17,
   "id": "a898eabf",
   "metadata": {},
   "outputs": [
    {
     "name": "stderr",
     "output_type": "stream",
     "text": [
      "C:\\ProgramData\\Anaconda3\\lib\\site-packages\\scipy\\__init__.py:146: UserWarning: A NumPy version >=1.16.5 and <1.23.0 is required for this version of SciPy (detected version 1.23.5\n",
      "  warnings.warn(f\"A NumPy version >={np_minversion} and <{np_maxversion}\"\n"
     ]
    },
    {
     "data": {
      "text/plain": [
       "LSTMAE(\n",
       "  (encoder): LSTM(60, 64, batch_first=True)\n",
       "  (to_latent): Linear(in_features=64, out_features=16, bias=True)\n",
       "  (from_latent): Linear(in_features=16, out_features=64, bias=True)\n",
       "  (decoder): LSTM(60, 64, batch_first=True)\n",
       "  (out): Linear(in_features=64, out_features=60, bias=True)\n",
       ")"
      ]
     },
     "execution_count": 17,
     "metadata": {},
     "output_type": "execute_result"
    }
   ],
   "source": [
    "# %%\n",
    "# Scaler + params\n",
    "scaler = joblib.load(str(SCALER_PROD_PATH))\n",
    "\n",
    "if BEST_PARAMS_PATH.exists():\n",
    "    with open(BEST_PARAMS_PATH) as f:\n",
    "        bp = json.load(f)\n",
    "else:\n",
    "    bp = {\"seq_len\": 30, \"stride\": 1}\n",
    "SEQ_LEN = int(bp.get(\"seq_len\", 30))\n",
    "STRIDE  = int(bp.get(\"stride\", 1))\n",
    "\n",
    "# Feature order (optional)\n",
    "if FEATURES_JSON.exists():\n",
    "    try:\n",
    "        fj = json.load(open(FEATURES_JSON))\n",
    "        FEATURES = fj.get(\"features\", FEATURES)\n",
    "    except Exception:\n",
    "        pass\n",
    "\n",
    "# Model definitions must match training\n",
    "class DenseAE(nn.Module):\n",
    "    def __init__(self, in_dim=60):\n",
    "        super().__init__()\n",
    "        self.encoder = nn.Sequential(\n",
    "            nn.Linear(in_dim, 40), nn.ReLU(),\n",
    "            nn.Linear(40, 20), nn.ReLU(),\n",
    "            nn.Linear(20, 10), nn.ReLU(),\n",
    "        )\n",
    "        self.decoder = nn.Sequential(\n",
    "            nn.Linear(10, 20), nn.ReLU(),\n",
    "            nn.Linear(20, 40), nn.ReLU(),\n",
    "            nn.Linear(40, in_dim),\n",
    "        )\n",
    "    def forward(self, x):\n",
    "        z = self.encoder(x)\n",
    "        out = self.decoder(z)\n",
    "        return out\n",
    "\n",
    "class LSTMAE(nn.Module):\n",
    "    def __init__(self, input_dim=60, hidden_dim=64, latent_dim=16, num_layers=1):\n",
    "        super().__init__()\n",
    "        self.encoder = nn.LSTM(input_dim, hidden_dim, num_layers=num_layers, batch_first=True)\n",
    "        self.to_latent = nn.Linear(hidden_dim, latent_dim)\n",
    "        self.from_latent = nn.Linear(latent_dim, hidden_dim)\n",
    "        self.decoder = nn.LSTM(input_dim, hidden_dim, num_layers=num_layers, batch_first=True)\n",
    "        self.out = nn.Linear(hidden_dim, input_dim)\n",
    "    def forward(self, x):  # x: (B, T, F)\n",
    "        enc_out, _ = self.encoder(x)\n",
    "        h_last = enc_out[:, -1, :]\n",
    "        z = self.to_latent(h_last)\n",
    "        h0 = self.from_latent(z).unsqueeze(0)\n",
    "        c0 = torch.zeros_like(h0)\n",
    "        dec_out, _ = self.decoder(x, (h0, c0))\n",
    "        y = self.out(dec_out)\n",
    "        return y\n",
    "\n",
    "# Instantiate + load weights\n",
    "pdense = bp.get(\"dense\", {})\n",
    "plstm  = bp.get(\"lstm\",  {})\n",
    "\n",
    "_dense = DenseAE(in_dim=len(FEATURES)).to(DEVICE)\n",
    "_lstm  = LSTMAE(input_dim=len(FEATURES),\n",
    "                hidden_dim=int(plstm.get(\"hidden\", 64)),\n",
    "                latent_dim=int(plstm.get(\"latent\", 16)),\n",
    "                num_layers=int(plstm.get(\"layers\", 1))).to(DEVICE)\n",
    "\n",
    "_dense.load_state_dict(torch.load(DENSE_PT_PATH, map_location=DEVICE))\n",
    "_lstm.load_state_dict(torch.load(LSTM_PT_PATH,  map_location=DEVICE))\n",
    "\n",
    "_dense.eval(); _lstm.eval()\n"
   ]
  },
  {
   "cell_type": "code",
   "execution_count": 20,
   "id": "3960f0eb",
   "metadata": {},
   "outputs": [],
   "source": [
    "# %%\n",
    "from collections import deque\n",
    "\n",
    "lstm_buf = deque(maxlen=max(1, SEQ_LEN - 1))\n",
    "ROLL_W = 3000 # rolling buffer of scaled rows\n",
    "roll_scores = deque(maxlen=ROLL_W)            # rolling LSTM scores for robust z\n",
    "prev_run_len = 0\n",
    "prev_run_start_ts = None\n",
    "\n",
    "def windowize(Xs: np.ndarray, seq_len: int, stride: int) -> np.ndarray:\n",
    "    n = len(Xs); F = Xs.shape[1]\n",
    "    if n < seq_len:\n",
    "        return np.empty((0, seq_len, F), dtype=Xs.dtype)\n",
    "    n_win = (n - seq_len) // stride + 1\n",
    "    idxs = (np.arange(seq_len)[None, :] + stride*np.arange(n_win)[:, None])\n",
    "    return Xs[idxs]\n",
    "\n",
    "def robust_z(scores: np.ndarray, med: float, mad: float) -> np.ndarray:\n",
    "    if mad <= 1e-12: mad = 1e-12\n",
    "    return np.abs(scores - med) / (1.4826 * mad)\n"
   ]
  },
  {
   "cell_type": "code",
   "execution_count": 21,
   "id": "ddf74d36",
   "metadata": {},
   "outputs": [],
   "source": [
    "# B4.5) Explicit schema for the landing stream\n",
    "from pyspark.sql import types as T\n",
    "\n",
    "schema = T.StructType(\n",
    "    [T.StructField(\"Timestamp\", T.StringType(), nullable=False)] +\n",
    "    [T.StructField(f\"signal_{i}\", T.FloatType(), nullable=True) for i in range(1, 61)]\n",
    ")\n"
   ]
  },
  {
   "cell_type": "code",
   "execution_count": 22,
   "id": "4b70d16f",
   "metadata": {},
   "outputs": [],
   "source": [
    "def score_and_detect(batch_df, batch_id: int):\n",
    "    import traceback, time\n",
    "    import numpy as np, pandas as pd\n",
    "    from pyspark.sql import functions as F\n",
    "    from datetime import datetime, timezone\n",
    "    import torch\n",
    "\n",
    "    print(f\"[foreachBatch] batch_id={batch_id} received\")\n",
    "\n",
    "    try:\n",
    "        if batch_df.isEmpty():\n",
    "            print(f\"[foreachBatch] batch_id={batch_id} is empty\")\n",
    "            return\n",
    "\n",
    "        # Safety cap (laptop-friendly)\n",
    "        MAX_ROWS = 2000\n",
    "        nrows = batch_df.count()\n",
    "        print(f\"[foreachBatch] batch_id={batch_id} rows={nrows}\")\n",
    "        if nrows > MAX_ROWS:\n",
    "            batch_df = batch_df.limit(MAX_ROWS)\n",
    "            print(f\"[foreachBatch] batch_id={batch_id} limited to {MAX_ROWS} rows\")\n",
    "\n",
    "        # Order & to pandas\n",
    "        ordered = batch_df.orderBy(F.col(TIMESTAMP_COL))\n",
    "        pdf = ordered.select([TIMESTAMP_COL] + FEATURES).toPandas()\n",
    "\n",
    "        # Scale\n",
    "        X = pdf[FEATURES].astype(\"float32\").values\n",
    "        Xs = scaler.transform(X).astype(\"float32\", copy=False)\n",
    "\n",
    "        # Dense AE -> per-row recon\n",
    "        with torch.no_grad():\n",
    "            x_t = torch.from_numpy(Xs)\n",
    "            recon_d = _dense(x_t).detach().cpu().numpy().astype(\"float32\")\n",
    "        dense_mse = ((Xs - recon_d) ** 2).mean(axis=1).astype(\"float32\")\n",
    "\n",
    "        # LSTM AE -> window recon; attach window error to last row of each window\n",
    "        global lstm_buf, roll_scores, prev_run_len, prev_run_start_ts\n",
    "\n",
    "        if len(lstm_buf) > 0:\n",
    "            buf_arr = np.stack(lstm_buf, axis=0).astype(\"float32\")\n",
    "            Xs_cat = np.concatenate([buf_arr, Xs], axis=0)\n",
    "        else:\n",
    "            Xs_cat = Xs\n",
    "\n",
    "        n, Fdim = len(Xs_cat), Xs_cat.shape[1]\n",
    "        if n >= SEQ_LEN:\n",
    "            n_win = (n - SEQ_LEN) // STRIDE + 1\n",
    "            idxs = np.arange(SEQ_LEN)[None, :] + STRIDE*np.arange(n_win)[:, None]\n",
    "            X_seq = Xs_cat[idxs]\n",
    "            with torch.no_grad():\n",
    "                xseq_t = torch.from_numpy(X_seq)\n",
    "                recon_l = _lstm(xseq_t).detach().cpu().numpy().astype(\"float32\")\n",
    "            win_mse = ((X_seq - recon_l) ** 2).mean(axis=(1,2)).astype(\"float32\")\n",
    "            scores_l_cat = np.full(len(Xs_cat), np.nan, dtype=\"float32\")\n",
    "            for i, s in enumerate(win_mse):\n",
    "                last_idx = i*STRIDE + SEQ_LEN - 1\n",
    "                if last_idx < len(scores_l_cat):\n",
    "                    scores_l_cat[last_idx] = s\n",
    "            lstm_mse = scores_l_cat[-len(Xs):]\n",
    "        else:\n",
    "            X_seq = np.empty((0, SEQ_LEN, Fdim), dtype=\"float32\")\n",
    "            lstm_mse = np.full(len(Xs), np.nan, dtype=\"float32\")\n",
    "\n",
    "        # Update buffer with tail for next batch\n",
    "        if SEQ_LEN > 1:\n",
    "            tail = Xs_cat[-(SEQ_LEN - 1):]\n",
    "            lstm_buf.clear()\n",
    "            for row in tail:\n",
    "                lstm_buf.append(row)\n",
    "\n",
    "        # Base score (used for decisions/plots)\n",
    "        base_score = np.where(np.isfinite(lstm_mse), lstm_mse, dense_mse).astype(\"float32\")\n",
    "\n",
    "        # Thresholds: percentile + robust-z on rolling history\n",
    "        valid = np.isfinite(lstm_mse)\n",
    "        use_scores = lstm_mse[valid] if valid.sum() > 50 else dense_mse\n",
    "        pctl_thr = float(np.percentile(use_scores, PCTL)) if len(use_scores) else float(\"inf\")\n",
    "\n",
    "        # Update rolling history from current LSTM scores\n",
    "        for s in lstm_mse[np.isfinite(lstm_mse)]:\n",
    "            roll_scores.append(float(s))\n",
    "\n",
    "        if len(roll_scores) > 20:\n",
    "            rm = float(np.median(roll_scores))\n",
    "            mad = float(np.median(np.abs(np.array(roll_scores) - rm)))\n",
    "            mad = mad if mad > 1e-12 else 1e-12\n",
    "            z = np.abs(lstm_mse - rm) / (1.4826 * mad)\n",
    "        else:\n",
    "            rm, mad = float(\"nan\"), float(\"nan\")\n",
    "            z = np.zeros_like(lstm_mse)\n",
    "\n",
    "        is_point = (base_score >= pctl_thr) | (z >= Z_THR)\n",
    "\n",
    "        # Pattern runs (contiguous is_point)\n",
    "        pattern_rows = []\n",
    "        is_pattern = np.zeros(len(pdf), dtype=bool)\n",
    "        pattern_id_col = np.full(len(pdf), np.nan)\n",
    "\n",
    "        run_len = prev_run_len\n",
    "        run_start_ts = prev_run_start_ts\n",
    "\n",
    "        for i, flag in enumerate(is_point.astype(bool)):\n",
    "            ts = pdf[TIMESTAMP_COL].iloc[i]\n",
    "            if flag:\n",
    "                if run_len == 0:\n",
    "                    run_start_ts = ts\n",
    "                run_len += 1\n",
    "            else:\n",
    "                if run_len >= MIN_RUN:\n",
    "                    pid = int(time.time() * 1000)\n",
    "                    start_idx = i - run_len\n",
    "                    end_idx   = i - 1\n",
    "                    pattern_rows.append({\n",
    "                        \"pattern_id\": pid,\n",
    "                        \"start_ts\": pdf[TIMESTAMP_COL].iloc[start_idx],\n",
    "                        \"end_ts\":   pdf[TIMESTAMP_COL].iloc[end_idx],\n",
    "                        \"length\":   run_len\n",
    "                    })\n",
    "                    # mark rows in this run\n",
    "                    is_pattern[start_idx:i] = True\n",
    "                    pattern_id_col[start_idx:i] = pid\n",
    "                run_len = 0\n",
    "                run_start_ts = None\n",
    "\n",
    "        # carry run across batches\n",
    "        prev_run_len = run_len\n",
    "        prev_run_start_ts = run_start_ts\n",
    "\n",
    "        # Augment pattern rows with summary metrics for Top-K\n",
    "        pat_rows_aug = []\n",
    "        for pr in pattern_rows:\n",
    "            mask = (pdf[TIMESTAMP_COL] >= pr[\"start_ts\"]) & (pdf[TIMESTAMP_COL] <= pr[\"end_ts\"])\n",
    "            bs_slice = base_score[mask.values]\n",
    "            pat_rows_aug.append({\n",
    "                **pr,\n",
    "                \"max_base_score\": float(np.nanmax(bs_slice)) if len(bs_slice) else float(\"nan\"),\n",
    "                \"mean_base_score\": float(np.nanmean(bs_slice)) if len(bs_slice) else float(\"nan\"),\n",
    "            })\n",
    "        pattern_pdf = pd.DataFrame(pat_rows_aug)\n",
    "\n",
    "        # Contributions (per anomalous row); use LSTM per-feature if available else dense per-feature\n",
    "        contrib_rows = []\n",
    "        # Dense per-feature error\n",
    "        err_dense = (Xs - recon_d) ** 2\n",
    "        # LSTM per-feature contribution (align to last row of each window)\n",
    "        contrib_l = np.full_like(Xs, np.nan, dtype=\"float32\")\n",
    "        if X_seq.shape[0] > 0:\n",
    "            win_err_feat = ((X_seq - recon_l) ** 2).mean(axis=1)  # (n_win, F)\n",
    "            tmp = np.full_like(Xs_cat, np.nan, dtype=\"float32\")\n",
    "            for i in range(win_err_feat.shape[0]):\n",
    "                last_idx = i*STRIDE + SEQ_LEN - 1\n",
    "                if last_idx < len(tmp): tmp[last_idx, :] = win_err_feat[i]\n",
    "            contrib_l = tmp[-len(Xs):]\n",
    "\n",
    "        # Timestamp -> pattern_id map\n",
    "        ts2pid = pd.Series(pattern_id_col, index=pdf[TIMESTAMP_COL].values)\n",
    "\n",
    "        # Build row-level output\n",
    "        out_scores = pd.DataFrame({\n",
    "            TIMESTAMP_COL: pdf[TIMESTAMP_COL].values,\n",
    "            \"dense_mse\": dense_mse,\n",
    "            \"lstm_mse\":  lstm_mse,\n",
    "            \"base_score\": base_score,\n",
    "            \"is_point\":  is_point.astype(bool),\n",
    "            \"is_pattern\": is_pattern.astype(bool),\n",
    "            \"pattern_id\": pattern_id_col,\n",
    "            \"batch_id\":  int(batch_id),\n",
    "            \"processed_at\": datetime.now(timezone.utc).isoformat(),\n",
    "            \"pctl_thr\": pctl_thr,\n",
    "            \"roll_med\": rm,\n",
    "            \"roll_mad\": mad,\n",
    "        })\n",
    "\n",
    "        # Build contributions table for rows flagged as point\n",
    "        for i, flag in enumerate(is_point.astype(bool)):\n",
    "            if not flag: continue\n",
    "            ts = pdf[TIMESTAMP_COL].iloc[i]\n",
    "            per_feat = contrib_l[i] if np.isfinite(lstm_mse[i]) else err_dense[i]\n",
    "            if np.all(np.isnan(per_feat)): continue\n",
    "            top_idx = np.argsort(per_feat)[-TOPK:][::-1]\n",
    "            for j in top_idx:\n",
    "                contrib_rows.append({\n",
    "                    TIMESTAMP_COL: ts,\n",
    "                    \"feature\": FEATURES[j],\n",
    "                    \"contribution\": float(per_feat[j]),\n",
    "                    \"pattern_id\": float(ts2pid.get(ts)) if ts in ts2pid.index else np.nan\n",
    "                })\n",
    "        contrib_point_pdf = pd.DataFrame(contrib_rows)\n",
    "\n",
    "        # --- Writes (POSIX paths) ---\n",
    "        spark.createDataFrame(out_scores).write.mode(\"append\").parquet(scores_path)\n",
    "        if not pattern_pdf.empty:\n",
    "            spark.createDataFrame(pattern_pdf).write.mode(\"append\").parquet(pattern_path)\n",
    "        if not contrib_point_pdf.empty:\n",
    "            spark.createDataFrame(contrib_point_pdf).write.mode(\"append\").parquet(contrib_path)\n",
    "\n",
    "        # Tiny metrics row per batch (for visuals to pick thresholds quickly)\n",
    "        metrics_pdf = pd.DataFrame([{\n",
    "            \"batch_id\": int(batch_id),\n",
    "            \"processed_at\": datetime.now(timezone.utc).isoformat(),\n",
    "            \"pctl_thr\": pctl_thr,\n",
    "            \"roll_med\": rm,\n",
    "            \"roll_mad\": mad,\n",
    "            \"seq_len\": SEQ_LEN,\n",
    "            \"stride\": STRIDE,\n",
    "            \"topk\": TOPK,\n",
    "            \"z_thr\": Z_THR,\n",
    "            \"min_run\": MIN_RUN\n",
    "        }])\n",
    "        spark.createDataFrame(metrics_pdf).write.mode(\"append\").parquet(metrics_path)\n",
    "\n",
    "        print(f\"[foreachBatch] batch_id={batch_id} wrote: \"\n",
    "              f\"scores={len(out_scores)} patterns={len(pattern_pdf)} contribs={len(contrib_point_pdf)}\")\n",
    "\n",
    "    except Exception as e:\n",
    "        print(f\"[foreachBatch] batch_id={batch_id} ERROR: {e}\")\n",
    "        print(traceback.format_exc())\n",
    "        # raise  # keep commented during dev; uncomment to fail fast\n"
   ]
  },
  {
   "cell_type": "markdown",
   "id": "90140d4b",
   "metadata": {},
   "source": [
    "## Start Streaming Reader : Writer Should be running "
   ]
  },
  {
   "cell_type": "markdown",
   "id": "3d02dc50",
   "metadata": {},
   "source": [
    "### Run it before starting reader"
   ]
  },
  {
   "cell_type": "code",
   "execution_count": 23,
   "id": "12adaaea",
   "metadata": {},
   "outputs": [
    {
     "name": "stdout",
     "output_type": "stream",
     "text": [
      "No Checkpoints to clear\n"
     ]
    }
   ],
   "source": [
    "import shutil, os\n",
    "if os.path.exists(str(CKPT_DIR)):\n",
    "    shutil.rmtree(str(CKPT_DIR))\n",
    "    print(\"Checkpoint cleared:\", CKPT_DIR)\n",
    "else:\n",
    "    print(\"No Checkpoints to clear\")\n"
   ]
  },
  {
   "cell_type": "markdown",
   "id": "e769601a",
   "metadata": {},
   "source": [
    "### Check if landing dir exits"
   ]
  },
  {
   "cell_type": "code",
   "execution_count": 24,
   "id": "55e6fcd7",
   "metadata": {},
   "outputs": [
    {
     "name": "stdout",
     "output_type": "stream",
     "text": [
      "LANDING_DIR exists: True -> C:\\Users\\Ishaan Tiwari\\Desktop\\Kafka\\landing\n",
      "Parquet present: True\n"
     ]
    }
   ],
   "source": [
    "from pathlib import Path\n",
    "import time, os\n",
    "\n",
    "print(\"LANDING_DIR exists:\", LANDING_DIR.exists(), \"->\", LANDING_DIR)\n",
    "# Wait briefly until a parquet appears if writer is running\n",
    "t0 = time.time()\n",
    "while time.time() - t0 < 10 and not any(LANDING_DIR.rglob(\"*.parquet\")):\n",
    "    time.sleep(0.5)\n",
    "print(\"Parquet present:\", any(LANDING_DIR.rglob(\"*.parquet\")))"
   ]
  },
  {
   "cell_type": "markdown",
   "id": "9b6f42ca",
   "metadata": {},
   "source": [
    "### Check if first parquet is written in lander before start reading"
   ]
  },
  {
   "cell_type": "code",
   "execution_count": 25,
   "id": "4e6b9705",
   "metadata": {},
   "outputs": [
    {
     "name": "stdout",
     "output_type": "stream",
     "text": [
      "First parquet file detected.\n"
     ]
    },
    {
     "data": {
      "text/plain": [
       "True"
      ]
     },
     "execution_count": 25,
     "metadata": {},
     "output_type": "execute_result"
    }
   ],
   "source": [
    "from pathlib import Path\n",
    "import time\n",
    "\n",
    "def wait_for_first_parquet(base: Path, timeout_sec: int = 30):\n",
    "    t0 = time.time()\n",
    "    while time.time() - t0 < timeout_sec:\n",
    "        if any(base.rglob(\"*.parquet\")):\n",
    "            print(\"First parquet file detected.\")\n",
    "            return True\n",
    "        time.sleep(0.5)\n",
    "    print(\"No parquet detected within timeout; continuing anyway.\")\n",
    "    return False\n",
    "\n",
    "wait_for_first_parquet(LANDING_DIR, timeout_sec=30)\n"
   ]
  },
  {
   "cell_type": "code",
   "execution_count": 26,
   "id": "18333101",
   "metadata": {},
   "outputs": [
    {
     "name": "stdout",
     "output_type": "stream",
     "text": [
      "io.native.lib.available = None\n"
     ]
    }
   ],
   "source": [
    "# Should print \"false\"\n",
    "print(\"io.native.lib.available =\", spark.sparkContext._jsc.hadoopConfiguration().get(\"io.native.lib.available\"))"
   ]
  },
  {
   "cell_type": "markdown",
   "id": "39aba088",
   "metadata": {},
   "source": [
    "### Static Reading Test"
   ]
  },
  {
   "cell_type": "code",
   "execution_count": 27,
   "id": "f8b6741d",
   "metadata": {},
   "outputs": [
    {
     "name": "stdout",
     "output_type": "stream",
     "text": [
      "+--------------------------+----------+----------+---------+---------+---------+----------+----------+---------+----------+---------+-----------+-----------+---------+---------+---------+----------+-----------+----------+----------+---------+-----------+----------+---------+---------+---------+-----------+----------+---------+----------+---------+-----------+-----------+---------+----------+---------+-----------+------------+---------+----------+---------+-----------+-----------+---------+---------+---------+-----------+----------+---------+----------+---------+----------+---------+---------+---------+---------+-----------+---------+---------+----------+----------+\n",
      "|Timestamp                 |signal_1  |signal_2  |signal_3 |signal_4 |signal_5 |signal_6  |signal_7  |signal_8 |signal_9  |signal_10|signal_11  |signal_12  |signal_13|signal_14|signal_15|signal_16 |signal_17  |signal_18 |signal_19 |signal_20|signal_21  |signal_22 |signal_23|signal_24|signal_25|signal_26  |signal_27 |signal_28|signal_29 |signal_30|signal_31  |signal_32  |signal_33|signal_34 |signal_35|signal_36  |signal_37   |signal_38|signal_39 |signal_40|signal_41  |signal_42  |signal_43|signal_44|signal_45|signal_46  |signal_47 |signal_48|signal_49 |signal_50|signal_51 |signal_52|signal_53|signal_54|signal_55|signal_56  |signal_57|signal_58|signal_59 |signal_60 |\n",
      "+--------------------------+----------+----------+---------+---------+---------+----------+----------+---------+----------+---------+-----------+-----------+---------+---------+---------+----------+-----------+----------+----------+---------+-----------+----------+---------+---------+---------+-----------+----------+---------+----------+---------+-----------+-----------+---------+----------+---------+-----------+------------+---------+----------+---------+-----------+-----------+---------+---------+---------+-----------+----------+---------+----------+---------+----------+---------+---------+---------+---------+-----------+---------+---------+----------+----------+\n",
      "|08:20:2025 23:58:21:000000|-0.2753393|-1.3325162|4.885603 |-8.959083|12.210346|0.22976083|2.6259189 |1.5049473|-8.865865 |8.215768 |-0.85632443|-2.1458628 |4.0414777|-9.155269|11.648579|-0.8484884|2.9712105  |3.5001419 |-3.1584597|6.5082445|-0.99668044|1.5614758 |2.3438115|-7.606561|5.1080117|0.85036516 |0.87512416|1.8869638|-3.9221606|13.521381|-0.44607696|-0.28791746|0.8677242|-5.4613357|7.182729 |-0.6640809 |0.5388166   |2.3874464|-5.1169205|5.102669 |-0.84102607|-0.76652336|3.8416948|-3.257807|6.318797 |0.5776594  |1.0230948 |1.8993382|-7.398099 |7.745567 |0.06410386|-2.220547|2.1898966|-5.883199|10.645524|-0.7138182 |1.5850111|1.960632 |-5.967193 |13.1415205|\n",
      "|08:20:2025 23:58:22:000000|0.4839525 |1.1128703 |4.936103 |-2.615018|13.296161|-0.7211582|-1.1433872|4.966525 |-3.7129326|5.2690024|0.79459846 |-0.20844993|1.3491243|-7.087747|6.8573847|0.9003955 |-2.8818736 |0.13333818|-7.628341 |14.252546|-0.72993445|-1.4370446|4.566886 |-9.913994|12.26638 |0.025890894|1.0381482 |1.3272678|-8.603837 |11.927617|-0.79359746|-1.4994452 |3.5584755|-8.845419 |10.961987|-0.95327425|0.16279835  |1.5446538|-3.1906781|9.764676 |0.4531435  |-1.1727785 |0.401144 |-9.974207|7.73927  |0.7298375  |2.2633088 |1.4912138|-7.4955163|7.5599556|-0.5493273|1.6372176|4.9677215|-5.490722|7.479434 |0.47567818 |-2.265898|3.8093848|-3.3940089|7.529537  |\n",
      "|08:20:2025 23:58:23:000000|-0.348391 |2.9471295 |3.7223837|-2.695744|7.2853365|0.46848938|1.9980727 |3.7477813|-6.047291 |14.49091 |-0.26455727|-2.0034778 |4.694564 |-3.891236|6.250075 |0.88619757|-0.34351817|0.9617131 |-3.913798 |8.480448 |0.41754943 |1.2404511 |4.669437 |-9.563614|9.0526495|0.9174669  |1.1483431 |1.9039606|-3.854373 |6.882585 |-0.8111644 |-2.422704  |4.3948345|-9.995905 |13.275655|-0.7740949 |-0.004096866|1.108049 |-9.666427 |11.403931|-0.9299177 |-0.83122   |0.8041186|-5.506206|12.018613|-0.82282406|-2.6323195|1.7400037|-5.9248347|5.4112597|0.3115813 |2.2245128|1.1052148|-8.126585|12.772154|-0.68567383|0.8945504|1.9459548|-8.492996 |9.3857565 |\n",
      "+--------------------------+----------+----------+---------+---------+---------+----------+----------+---------+----------+---------+-----------+-----------+---------+---------+---------+----------+-----------+----------+----------+---------+-----------+----------+---------+---------+---------+-----------+----------+---------+----------+---------+-----------+-----------+---------+----------+---------+-----------+------------+---------+----------+---------+-----------+-----------+---------+---------+---------+-----------+----------+---------+----------+---------+----------+---------+---------+---------+---------+-----------+---------+---------+----------+----------+\n",
      "only showing top 3 rows\n",
      "\n"
     ]
    }
   ],
   "source": [
    "from pyspark.sql import types as T\n",
    "from pathlib import Path\n",
    "import time\n",
    "\n",
    "LANDING_DIR = Path(r\"C:\\Users\\Ishaan Tiwari\\Desktop\\Kafka\\landing\")\n",
    "landing_path_for_spark = str(LANDING_DIR).replace(\"\\\\\", \"/\")\n",
    "\n",
    "schema = T.StructType([T.StructField(\"Timestamp\", T.StringType(), False)] +\n",
    "                      [T.StructField(f\"signal_{i}\", T.FloatType(), True) for i in range(1, 61)])\n",
    "\n",
    "# ensure at least one parquet exists\n",
    "t0 = time.time()\n",
    "while time.time() - t0 < 10 and not any(LANDING_DIR.rglob(\"*.parquet\")):\n",
    "    time.sleep(0.5)\n",
    "\n",
    "df_static = (spark.read\n",
    "             .format(\"parquet\")\n",
    "             .schema(schema)\n",
    "             .option(\"recursiveFileLookup\", \"true\")\n",
    "             .load(landing_path_for_spark))\n",
    "df_static.show(3, truncate=False)"
   ]
  },
  {
   "cell_type": "code",
   "execution_count": 28,
   "id": "eed76641",
   "metadata": {},
   "outputs": [
    {
     "name": "stdout",
     "output_type": "stream",
     "text": [
      "Static write OK -> C:/Users/Ishaan Tiwari/Desktop/Kafka/silver/scores\n"
     ]
    }
   ],
   "source": [
    "# quick write sanity test\n",
    "test_df = spark.createDataFrame([(\"2025-08-21 00:00:00:000000\", 0.1, 0.2, True)],\n",
    "                                [\"Timestamp\", \"dense_mse\", \"lstm_mse\", \"is_point\"])\n",
    "test_df.write.mode(\"append\").parquet(scores_path)\n",
    "print(\"Static write OK ->\", scores_path)"
   ]
  },
  {
   "cell_type": "code",
   "execution_count": 29,
   "id": "0c283223",
   "metadata": {},
   "outputs": [
    {
     "name": "stdout",
     "output_type": "stream",
     "text": [
      "Files under scores: 92\n"
     ]
    }
   ],
   "source": [
    "import glob\n",
    "print(\"Files under scores:\", len(glob.glob(scores_path + \"/**/*.parquet\", recursive=True)))"
   ]
  },
  {
   "cell_type": "markdown",
   "id": "5f71d037",
   "metadata": {},
   "source": [
    "### Start Reading"
   ]
  },
  {
   "cell_type": "code",
   "execution_count": 30,
   "id": "aa949851",
   "metadata": {},
   "outputs": [],
   "source": [
    "os.environ[\"OMP_NUM_THREADS\"]=\"2\"; os.environ[\"MKL_NUM_THREADS\"]=\"2\"; torch.set_num_threads(2)"
   ]
  },
  {
   "cell_type": "code",
   "execution_count": 31,
   "id": "bd61c5d9",
   "metadata": {},
   "outputs": [],
   "source": [
    "# Define POSIX landing paths (safe on Windows)\n",
    "landing_root = LANDING_DIR.as_posix()\n",
    "landing_glob = f\"{landing_root}/*/*/*/*/*/*\"   # matches YYYY/MM/DD/HH/mm/ss folders\n",
    "\n",
    "# Then use landing_glob instead of LANDING_DIR\n",
    "query = (spark.readStream\n",
    "         .format(\"parquet\")\n",
    "         .schema(schema)\n",
    "         .option(\"recursiveFileLookup\", \"true\")   # still fine\n",
    "         .load(landing_glob)                      # <-- use the glob here\n",
    "         .writeStream\n",
    "         .foreachBatch(score_and_detect)\n",
    "         .option(\"checkpointLocation\", CKPT_DIR.as_posix())\n",
    "         .outputMode(\"append\")\n",
    "         .start())\n"
   ]
  },
  {
   "cell_type": "code",
   "execution_count": 32,
   "id": "b52e783d",
   "metadata": {},
   "outputs": [
    {
     "name": "stdout",
     "output_type": "stream",
     "text": [
      "Active streams: 1\n",
      " - name: None | isActive: True\n",
      "   status: {'message': 'Initializing sources', 'isDataAvailable': False, 'isTriggerActive': False}\n",
      "   lastProgress:\n",
      "None\n",
      "[foreachBatch] batch_id=0 received\n",
      "[foreachBatch] batch_id=0 rows=95000\n",
      "[foreachBatch] batch_id=0 limited to 2000 rows\n"
     ]
    }
   ],
   "source": [
    "from pprint import pprint\n",
    "print(\"Active streams:\", len(spark.streams.active))\n",
    "for q in spark.streams.active:\n",
    "    print(\" - name:\", q.name, \"| isActive:\", q.isActive)\n",
    "    print(\"   status:\", q.status)\n",
    "    print(\"   lastProgress:\"); pprint(q.lastProgress)"
   ]
  },
  {
   "cell_type": "markdown",
   "id": "5d7b1432",
   "metadata": {},
   "source": [
    "## Stop Stream Reading"
   ]
  },
  {
   "cell_type": "code",
   "execution_count": null,
   "id": "9486a09a",
   "metadata": {},
   "outputs": [],
   "source": [
    "query.stop()"
   ]
  },
  {
   "cell_type": "markdown",
   "id": "ab9990a1",
   "metadata": {},
   "source": [
    "## Visualization "
   ]
  },
  {
   "cell_type": "code",
   "execution_count": 33,
   "id": "26f5cd74",
   "metadata": {},
   "outputs": [
    {
     "name": "stdout",
     "output_type": "stream",
     "text": [
      "[foreachBatch] batch_id=0 ERROR: cannot convert the series to <class 'float'>\n",
      "Traceback (most recent call last):\n",
      "  File \"C:\\Users\\ISHAAN~1\\AppData\\Local\\Temp/ipykernel_3260/2336560260.py\", line 187, in score_and_detect\n",
      "    \"pattern_id\": float(ts2pid.get(ts)) if ts in ts2pid.index else np.nan\n",
      "  File \"C:\\ProgramData\\Anaconda3\\lib\\site-packages\\pandas\\core\\series.py\", line 185, in wrapper\n",
      "    raise TypeError(f\"cannot convert the series to {converter}\")\n",
      "TypeError: cannot convert the series to <class 'float'>\n",
      "\n",
      "[foreachBatch] batch_id=1 received\n",
      "[foreachBatch] batch_id=1 rows=1400\n"
     ]
    }
   ],
   "source": [
    "# %%\n",
    "def load_scores(limit_rows: int = 10000) -> pd.DataFrame:\n",
    "    files = list(SCORES_DIR.glob(\"*.parquet\")) or list(SCORES_DIR.rglob(\"*.parquet\"))\n",
    "    if not files:\n",
    "        return pd.DataFrame()\n",
    "    pdf = pd.concat([pd.read_parquet(f) for f in files], ignore_index=True)\n",
    "    pdf = pdf.sort_values(TIMESTAMP_COL)\n",
    "    if limit_rows:\n",
    "        pdf = pdf.head(limit_rows)\n",
    "    return pdf\n",
    "\n",
    "def plot_healthscores(limit_rows: int = 5000):\n",
    "    pdf = load_scores(limit_rows)\n",
    "    if pdf.empty:\n",
    "        print(\"No scored data yet.\"); return\n",
    "    x = np.arange(len(pdf))\n",
    "    plt.figure()\n",
    "    plt.plot(x, pdf[\"dense_mse\"].values, label=\"dense_mse\")\n",
    "    plt.plot(x, np.nan_to_num(pdf[\"lstm_mse\"].values, nan=np.nan), label=\"lstm_mse\")\n",
    "    if \"is_point\" in pdf.columns:\n",
    "        idx = np.where(pdf[\"is_point\"].values)[0]\n",
    "        if len(idx) > 0:\n",
    "            plt.scatter(idx, pdf[\"lstm_mse\"].values[idx], marker='x', label='point anom')\n",
    "    plt.legend(); plt.title(\"Healthscores\"); plt.xlabel(\"row index\"); plt.ylabel(\"MSE\")\n",
    "    plt.show()\n",
    "\n",
    "def plot_global_contributors(topn: int = 15):\n",
    "    files = list(CONTR_P_DIR.rglob(\"*.parquet\"))\n",
    "    if not files:\n",
    "        print(\"No contribution data yet.\"); return\n",
    "    pdf = pd.concat([pd.read_parquet(f) for f in files], ignore_index=True)\n",
    "    agg = (pdf.groupby(\"feature\")[\"contribution\"].sum().sort_values(ascending=False).head(topn))\n",
    "    plt.figure()\n",
    "    plt.bar(agg.index.tolist(), agg.values)\n",
    "    plt.xticks(rotation=60, ha='right')\n",
    "    plt.title(\"Top Global Contributors (Point Anomalies)\")\n",
    "    plt.xlabel(\"feature\"); plt.ylabel(\"sum contribution\")\n",
    "    plt.tight_layout(); plt.show()\n"
   ]
  },
  {
   "cell_type": "markdown",
   "id": "89bdd640",
   "metadata": {},
   "source": [
    "## Visulaization Mannual Refresh"
   ]
  },
  {
   "cell_type": "code",
   "execution_count": 34,
   "id": "da1aa632",
   "metadata": {},
   "outputs": [
    {
     "data": {
      "image/png": "[encoded data removed]",
      "text/plain": [
       "<Figure size 432x288 with 1 Axes>"
      ]
     },
     "metadata": {
      "needs_background": "light"
     },
     "output_type": "display_data"
    },
    {
     "data": {
      "image/png": "[encoded data removed]",
      "text/plain": [
       "<Figure size 432x288 with 1 Axes>"
      ]
     },
     "metadata": {
      "needs_background": "light"
     },
     "output_type": "display_data"
    },
    {
     "name": "stdout",
     "output_type": "stream",
     "text": [
      "[foreachBatch] batch_id=1 ERROR: name 'metrics_path' is not defined\n",
      "Traceback (most recent call last):\n",
      "  File \"C:\\Users\\ISHAAN~1\\AppData\\Local\\Temp/ipykernel_3260/2336560260.py\", line 211, in score_and_detect\n",
      "    spark.createDataFrame(metrics_pdf).write.mode(\"append\").parquet(metrics_path)\n",
      "NameError: name 'metrics_path' is not defined\n",
      "\n",
      "[foreachBatch] batch_id=2 received\n",
      "[foreachBatch] batch_id=2 rows=4800\n",
      "[foreachBatch] batch_id=2 limited to 2000 rows\n",
      "[foreachBatch] batch_id=2 ERROR: name 'metrics_path' is not defined\n",
      "Traceback (most recent call last):\n",
      "  File \"C:\\Users\\ISHAAN~1\\AppData\\Local\\Temp/ipykernel_3260/2336560260.py\", line 211, in score_and_detect\n",
      "    spark.createDataFrame(metrics_pdf).write.mode(\"append\").parquet(metrics_path)\n",
      "NameError: name 'metrics_path' is not defined\n",
      "\n",
      "[foreachBatch] batch_id=3 received\n",
      "[foreachBatch] batch_id=3 rows=2600\n",
      "[foreachBatch] batch_id=3 limited to 2000 rows\n",
      "[foreachBatch] batch_id=3 ERROR: name 'metrics_path' is not defined\n",
      "Traceback (most recent call last):\n",
      "  File \"C:\\Users\\ISHAAN~1\\AppData\\Local\\Temp/ipykernel_3260/2336560260.py\", line 211, in score_and_detect\n",
      "    spark.createDataFrame(metrics_pdf).write.mode(\"append\").parquet(metrics_path)\n",
      "NameError: name 'metrics_path' is not defined\n",
      "\n"
     ]
    }
   ],
   "source": [
    "load_scores(1000)\n",
    "plot_healthscores(5000)\n",
    "plot_global_contributors(15)"
   ]
  },
  {
   "cell_type": "code",
   "execution_count": null,
   "id": "79cb4606",
   "metadata": {},
   "outputs": [],
   "source": []
  }
 ],
 "metadata": {
  "kernelspec": {
   "display_name": "Python 3 (ipykernel)",
   "language": "python",
   "name": "python3"
  },
  "language_info": {
   "codemirror_mode": {
    "name": "ipython",
    "version": 3
   },
   "file_extension": ".py",
   "mimetype": "text/x-python",
   "name": "python",
   "nbconvert_exporter": "python",
   "pygments_lexer": "ipython3",
   "version": "3.9.7"
  }
 },
 "nbformat": 4,
 "nbformat_minor": 5
}
