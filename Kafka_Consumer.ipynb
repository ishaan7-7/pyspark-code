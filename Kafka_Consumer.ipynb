{
 "cells": [
  {
   "cell_type": "code",
   "execution_count": null,
   "id": "4d24d638",
   "metadata": {},
   "outputs": [],
   "source": [
    "%pip install confluent-kafka\n"
   ]
  },
  {
   "cell_type": "code",
   "execution_count": null,
   "id": "b7f5e0d0",
   "metadata": {},
   "outputs": [],
   "source": [
    "from confluent_kafka import Consumer\n",
    "\n",
    "conf = {\n",
    "    'bootstrap.servers': 'localhost:9093',\n",
    "    'group.id': 'iot-consumer',\n",
    "    'auto.offset.reset': 'earliest'\n",
    "}\n",
    "consumer = Consumer(conf)\n",
    "consumer.subscribe(['iot_signals'])\n",
    "\n",
    "print(\"Starting consumer...\")\n",
    "try:\n",
    "    while True:\n",
    "        msg = consumer.poll(1.0)\n",
    "        if msg is None:\n",
    "            continue\n",
    "        if msg.error():\n",
    "            print(\"Error:\", msg.error())\n",
    "            continue\n",
    "        print(\"Received:\", msg.value().decode('utf-8'))\n",
    "except KeyboardInterrupt:\n",
    "    pass\n",
    "finally:\n",
    "    consumer.close()\n"
   ]
  },
  {
   "cell_type": "code",
   "execution_count": null,
   "id": "e39a10c6",
   "metadata": {},
   "outputs": [
    {
     "name": "stdout",
     "output_type": "stream",
     "text": [
      "Connected to 0.tcp.in.ngrok.io:12783, listening to iot_signals...\n"
     ]
    }
   ],
   "source": [
    "from confluent_kafka import Consumer\n",
    "import json\n",
    "\n",
    "# 🔹 Use your ngrok host:port here\n",
    "BOOTSTRAP_SERVERS = \"0.tcp.in.ngrok.io:12783\"\n",
    "TOPIC = \"iot_signals\"\n",
    "\n",
    "conf = {\n",
    "    'bootstrap.servers': BOOTSTRAP_SERVERS,\n",
    "    'group.id': 'test-consumer',\n",
    "    'auto.offset.reset': 'latest',   # only new messages\n",
    "}\n",
    "\n",
    "consumer = Consumer(conf)\n",
    "consumer.subscribe([TOPIC])\n",
    "\n",
    "print(f\"Connected to {BOOTSTRAP_SERVERS}, listening to {TOPIC}...\")\n",
    "\n",
    "try:\n",
    "    while True:\n",
    "        msg = consumer.poll(1.0)  # wait up to 1s\n",
    "        if msg is None:\n",
    "            continue\n",
    "        if msg.error():\n",
    "            print(\"Error:\", msg.error())\n",
    "            continue\n",
    "\n",
    "        # Decode JSON payload\n",
    "        data = json.loads(msg.value().decode('utf-8'))\n",
    "        print(data)   # print the whole message (timestamp + signals)\n",
    "\n",
    "except KeyboardInterrupt:\n",
    "    pass\n",
    "finally:\n",
    "    consumer.close()\n"
   ]
  },
  {
   "cell_type": "code",
   "execution_count": null,
   "id": "ee51389c",
   "metadata": {},
   "outputs": [],
   "source": []
  }
 ],
 "metadata": {
  "kernelspec": {
   "display_name": "Python 3 (ipykernel)",
   "language": "python",
   "name": "python3"
  },
  "language_info": {
   "codemirror_mode": {
    "name": "ipython",
    "version": 3
   },
   "file_extension": ".py",
   "mimetype": "text/x-python",
   "name": "python",
   "nbconvert_exporter": "python",
   "pygments_lexer": "ipython3",
   "version": "3.9.7"
  }
 },
 "nbformat": 4,
 "nbformat_minor": 5
}
