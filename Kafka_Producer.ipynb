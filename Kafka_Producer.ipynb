{
 "cells": [
  {
   "cell_type": "code",
   "execution_count": null,
   "id": "c577cbe7",
   "metadata": {},
   "outputs": [],
   "source": [
    "%pip install confluent-kafka"
   ]
  },
  {
   "cell_type": "code",
   "execution_count": 3,
   "id": "5ed65d02",
   "metadata": {},
   "outputs": [],
   "source": [
    "import threading\n",
    "import json\n",
    "import time\n",
    "import datetime\n",
    "import random\n",
    "from confluent_kafka import Producer"
   ]
  },
  {
   "cell_type": "code",
   "execution_count": 2,
   "id": "22938fc3",
   "metadata": {},
   "outputs": [],
   "source": [
    "\n",
    "conf = {\n",
    "    'bootstrap.servers': 'localhost:9092',  # change if using ngrok\n",
    "    'client.id': 'iot-producer'\n",
    "}\n",
    "\n",
    "producer = Producer(conf)"
   ]
  },
  {
   "cell_type": "code",
   "execution_count": null,
   "id": "4dca0624",
   "metadata": {},
   "outputs": [],
   "source": [
    "producer.flush()\n",
    "print(\"Producer stopped cleanly.\")\n"
   ]
  },
  {
   "cell_type": "code",
   "execution_count": null,
   "id": "134ecd85",
   "metadata": {},
   "outputs": [
    {
     "name": "stdout",
     "output_type": "stream",
     "text": [
      "Starting producer at ~10000 msgs/sec...\n"
     ]
    }
   ],
   "source": [
    "\n",
    "conf = {\n",
    "    'bootstrap.servers': '0.tcp.in.ngrok.io:12783',  # <--- ngrok host:port\n",
    "    'client.id': 'iot-producer',\n",
    "    'queue.buffering.max.messages': 200000,\n",
    "}\n",
    "producer = Producer(conf)\n",
    "topic = \"iot_signals\"\n",
    "\n",
    "# -----------------------\n",
    "# Signal ranges\n",
    "# -----------------------\n",
    "signal_ranges = {}\n",
    "for i in range(1, 11):\n",
    "    signal_ranges[f\"signal_{i}\"] = (0, 1)\n",
    "for i in range(11, 21):\n",
    "    signal_ranges[f\"signal_{i}\"] = (0, 100)\n",
    "for i in range(21, 41):\n",
    "    signal_ranges[f\"signal_{i}\"] = (-50, 50)\n",
    "for i in range(41, 61):\n",
    "    signal_ranges[f\"signal_{i}\"] = (-100, 100)\n",
    "\n",
    "# -----------------------\n",
    "# Base timestamp\n",
    "# -----------------------\n",
    "base_time = int(datetime.datetime.now().timestamp() * 1_000_000)\n",
    "\n",
    "# -----------------------\n",
    "# Stop flag (set True from another cell to stop)\n",
    "# -----------------------\n",
    "stop_producer = False\n",
    "\n",
    "def generate_row():\n",
    "    global base_time\n",
    "    step = random.randint(0, 5000)  # 0–5 ms\n",
    "    base_time += step\n",
    "    ts = datetime.datetime.fromtimestamp(base_time / 1_000_000).strftime(\"%m/%d/%Y %H:%M:%S:%f\")\n",
    "    row = {\"timestamp\": ts}\n",
    "    for sig, (low, high) in signal_ranges.items():\n",
    "        row[sig] = round(random.uniform(low, high), 4)\n",
    "    return row\n",
    "\n",
    "# -----------------------\n",
    "# Producer loop\n",
    "# -----------------------\n",
    "target_rate = 10000  # msgs/sec\n",
    "batch_size = 1000\n",
    "interval = batch_size / target_rate\n",
    "flush_every = 100000   # auto-flush every 100k msgs\n",
    "\n",
    "print(f\"Starting producer at ~{target_rate} msgs/sec...\")\n",
    "\n",
    "msg_count = 0\n",
    "while not stop_producer:\n",
    "    start = time.time()\n",
    "    for _ in range(batch_size):\n",
    "        row = generate_row()\n",
    "        producer.produce(topic, value=json.dumps(row))\n",
    "        producer.poll(0)   # prevents queue overflow\n",
    "        msg_count += 1\n",
    "\n",
    "        # Auto-flush safeguard\n",
    "        if msg_count % flush_every == 0:\n",
    "            producer.flush()\n",
    "            print(f\"Flushed at {msg_count} messages.\")\n",
    "\n",
    "    elapsed = time.time() - start\n",
    "    if elapsed < interval:\n",
    "        time.sleep(interval - elapsed)\n",
    "\n",
    "# Final flush when stopping\n",
    "producer.flush()\n",
    "print(f\"Producer stopped cleanly at {msg_count} messages.\")\n"
   ]
  },
  {
   "cell_type": "code",
   "execution_count": null,
   "id": "553717fe",
   "metadata": {},
   "outputs": [],
   "source": [
    "stop_producer = True"
   ]
  },
  {
   "cell_type": "code",
   "execution_count": null,
   "id": "d607b438",
   "metadata": {},
   "outputs": [],
   "source": [
    "\n"
   ]
  },
  {
   "cell_type": "code",
   "execution_count": null,
   "id": "a4bee45f",
   "metadata": {},
   "outputs": [],
   "source": [
    "\n"
   ]
  },
  {
   "cell_type": "code",
   "execution_count": null,
   "id": "b2305005",
   "metadata": {
    "scrolled": true
   },
   "outputs": [],
   "source": []
  },
  {
   "cell_type": "code",
   "execution_count": null,
   "id": "8944911c",
   "metadata": {},
   "outputs": [],
   "source": []
  },
  {
   "cell_type": "code",
   "execution_count": null,
   "id": "b43b3ab2",
   "metadata": {},
   "outputs": [],
   "source": [
    "\n"
   ]
  },
  {
   "cell_type": "code",
   "execution_count": null,
   "id": "d322f540",
   "metadata": {},
   "outputs": [],
   "source": []
  }
 ],
 "metadata": {
  "kernelspec": {
   "display_name": "Python 3 (ipykernel)",
   "language": "python",
   "name": "python3"
  },
  "language_info": {
   "codemirror_mode": {
    "name": "ipython",
    "version": 3
   },
   "file_extension": ".py",
   "mimetype": "text/x-python",
   "name": "python",
   "nbconvert_exporter": "python",
   "pygments_lexer": "ipython3",
   "version": "3.9.7"
  }
 },
 "nbformat": 4,
 "nbformat_minor": 5
}
